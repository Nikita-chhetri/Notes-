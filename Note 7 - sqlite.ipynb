{
 "cells": [
  {
   "cell_type": "markdown",
   "id": "430bb65b",
   "metadata": {},
   "source": [
    "<div style=\"background-color: #90EE90;\"><b>    </b></div> "
   ]
  },
  {
   "cell_type": "markdown",
   "id": "dea0773e",
   "metadata": {},
   "source": [
    "<h1 align=\\\"center\\\"><font color='green'><font size=\\\"10\\\">SQLite</font> </h1>"
   ]
  },
  {
   "cell_type": "markdown",
   "id": "6183aa53",
   "metadata": {},
   "source": [
    "<div style=\"background-color: #90EE90;\">.</div>"
   ]
  },
  {
   "cell_type": "markdown",
   "id": "072adb4f",
   "metadata": {},
   "source": [
    "##### SQLite is a lightweight, serverless, embedded database management system (DBMS). It's designed to be self-contained, meaning it doesn't require a separate server process to run."
   ]
  },
  {
   "cell_type": "markdown",
   "id": "bc7922e3",
   "metadata": {},
   "source": [
    "#### Key Features:\n",
    " - Embedded: It's integrated directly into applications, making it suitable for small-scale and mobile applications.\n",
    " - Serverless: No separate server process is needed, reducing overhead and complexity.\n",
    " - Self-contained: The entire database engine is contained within a single file, making it easy to distribute and deploy.\n",
    " - No-configuration: SQLite requires minimal setup, making it user-friendly.\n",
    " - ACID-compliant: Ensures data integrity through atomicity, consistency, isolation, and durability."
   ]
  },
  {
   "cell_type": "markdown",
   "id": "18d29d98",
   "metadata": {},
   "source": [
    "#### Common Use Cases:\n",
    " - Mobile applications\n",
    " - Desktop applications\n",
    " - Embedded systems\n",
    " - Web applications (for smaller datasets)"
   ]
  },
  {
   "cell_type": "markdown",
   "id": "ed44308e",
   "metadata": {},
   "source": [
    "#### Advantages:\n",
    " - Simplicity\n",
    " - Speed\n",
    " - Reliability\n",
    " - Portability\n",
    "\n"
   ]
  },
  {
   "cell_type": "markdown",
   "id": "fe3fef25",
   "metadata": {},
   "source": [
    "#### Disadvantages:\n",
    " - Limited scalability for large datasets\n",
    " - Lack of advanced features compared to full-fledged database systems\n",
    "\n",
    "###### Note: While SQLite is a powerful tool, it's important to consider its limitations and choose it wisely based on your specific project requirements. For larger-scale applications, a more robust database system like MySQL, PostgreSQL, or SQL Server might be more suitable."
   ]
  },
  {
   "cell_type": "markdown",
   "id": "b38fb59d",
   "metadata": {},
   "source": [
    "#### SQLite and Python: A Perfect Match\n",
    " - SQLite is a versatile database system that can be easily integrated into Python applications. \n",
    " - This combination offers a powerful and efficient way to manage data within your projects."
   ]
  },
  {
   "cell_type": "markdown",
   "id": "463548eb",
   "metadata": {},
   "source": [
    "#### Key Benefits of Using SQLite with Python:\n",
    " - Simplicity: SQLite's lightweight design makes it easy to integrate into Python projects.\n",
    " - Efficiency: SQLite is often faster than full-fledged database systems for smaller datasets.\n",
    " - Portability: SQLite databases can be easily moved and distributed.\n",
    " - Flexibility: SQLite can be used for a wide range of applications, from simple data storage to complex database-driven systems.\n"
   ]
  },
  {
   "cell_type": "code",
   "execution_count": 1,
   "id": "bd8f5613",
   "metadata": {},
   "outputs": [],
   "source": [
    "#importing necessary libraries\n",
    "import sqlite3 as sql \n",
    "import pandas as pd\n",
    "import mysql.connector"
   ]
  },
  {
   "cell_type": "code",
   "execution_count": 2,
   "id": "d52df189",
   "metadata": {},
   "outputs": [],
   "source": [
    "connect = sql.connect('minishop.db')#creating connection to a created database(saves on this notebook)\n",
    "cursor = connect.cursor()\n",
    "#cursor is needed to execute the queries "
   ]
  },
  {
   "cell_type": "code",
   "execution_count": 3,
   "id": "7d4731b6",
   "metadata": {},
   "outputs": [
    {
     "data": {
      "text/plain": [
       "<sqlite3.Cursor at 0x107ceb66340>"
      ]
     },
     "execution_count": 3,
     "metadata": {},
     "output_type": "execute_result"
    }
   ],
   "source": [
    "cursor.execute('Create table mart(Groceries, Price, Qunatity)')\n",
    "#creating table mart"
   ]
  },
  {
   "cell_type": "code",
   "execution_count": 4,
   "id": "5401cab0",
   "metadata": {},
   "outputs": [
    {
     "data": {
      "text/plain": [
       "('mart',)"
      ]
     },
     "execution_count": 4,
     "metadata": {},
     "output_type": "execute_result"
    }
   ],
   "source": [
    "cursor.execute('Select name From Sqlite_master').fetchone()\n",
    "#checking if the table was created \n",
    "#fetchone is necessary to display the result "
   ]
  },
  {
   "cell_type": "code",
   "execution_count": 5,
   "id": "b1184106",
   "metadata": {},
   "outputs": [],
   "source": [
    "cursor.execute(\"\"\"Insert into mart Values\n",
    "                  ('Rice',200,7),\n",
    "                  ('Beans',250,10),\n",
    "                  ('Pulse',137,25)\"\"\")\n",
    "connect.commit()\n",
    "#inserting values into the table \n",
    "#necessary to commit after inserting to preserve data created"
   ]
  },
  {
   "cell_type": "code",
   "execution_count": 7,
   "id": "c657a9ad",
   "metadata": {},
   "outputs": [
    {
     "data": {
      "text/plain": [
       "[('Pulse', 137), ('Rice', 200), ('Beans', 250)]"
      ]
     },
     "execution_count": 7,
     "metadata": {},
     "output_type": "execute_result"
    }
   ],
   "source": [
    "exp = cursor.execute('Select Groceries, price From mart ORDER BY price Asc')\n",
    "exp.fetchall() \n",
    "#sorting in asc order\n",
    "#Notice fetchone gives single value whil fetchall gives the entire value"
   ]
  },
  {
   "cell_type": "code",
   "execution_count": 8,
   "id": "4ff16dba",
   "metadata": {},
   "outputs": [
    {
     "name": "stdout",
     "output_type": "stream",
     "text": [
      "The most expensive grocery is 'Beans', priced at 250\n"
     ]
    }
   ],
   "source": [
    "expensive = cursor.execute('Select Groceries, price From mart ORDER BY price Desc')\n",
    "Groceries, price = expensive.fetchone()\n",
    "print(f\"The most expensive grocery is {Groceries!r}, priced at {price}\")\n",
    "#printing most expensive product in the mart"
   ]
  },
  {
   "cell_type": "code",
   "execution_count": 9,
   "id": "f47088ff",
   "metadata": {},
   "outputs": [],
   "source": [
    "data = [('Toothpaste', 10, 15),\n",
    "       ('Cooking_Oil',190,14),\n",
    "       ('water',2,40)]\n",
    "cursor.executemany('Insert into mart Values(?,?,?)', data)\n",
    "#here ? is the placeholder of the data to be filled with\n",
    "connect.commit()"
   ]
  },
  {
   "cell_type": "code",
   "execution_count": 10,
   "id": "04e4895f",
   "metadata": {},
   "outputs": [
    {
     "name": "stdout",
     "output_type": "stream",
     "text": [
      "('Rice',)\n",
      "('Beans',)\n",
      "('Pulse',)\n",
      "('Toothpaste',)\n",
      "('Cooking_Oil',)\n",
      "('water',)\n"
     ]
    }
   ],
   "source": [
    "for things in cursor.execute(\"Select Groceries From mart\"):\n",
    "    print(things)\n",
    "#printing using for loop"
   ]
  },
  {
   "cell_type": "code",
   "execution_count": 11,
   "id": "bed1ee1f",
   "metadata": {},
   "outputs": [
    {
     "data": {
      "text/plain": [
       "[('Rice', 200, 7),\n",
       " ('Beans', 250, 10),\n",
       " ('Pulse', 137, 25),\n",
       " ('Toothpaste', 10, 15),\n",
       " ('Cooking_Oil', 190, 14),\n",
       " ('water', 2, 40)]"
      ]
     },
     "execution_count": 11,
     "metadata": {},
     "output_type": "execute_result"
    }
   ],
   "source": [
    "entire_shop = cursor.execute('Select * From mart').fetchall()\n",
    "entire_shop"
   ]
  },
  {
   "cell_type": "code",
   "execution_count": 14,
   "id": "30ff0a72",
   "metadata": {},
   "outputs": [
    {
     "ename": "ProgrammingError",
     "evalue": "Cannot operate on a closed database.",
     "output_type": "error",
     "traceback": [
      "\u001b[1;31m---------------------------------------------------------------------------\u001b[0m",
      "\u001b[1;31mProgrammingError\u001b[0m                          Traceback (most recent call last)",
      "Cell \u001b[1;32mIn[14], line 2\u001b[0m\n\u001b[0;32m      1\u001b[0m connect\u001b[38;5;241m.\u001b[39mclose()\n\u001b[1;32m----> 2\u001b[0m cursor\u001b[38;5;241m.\u001b[39mclose()\n",
      "\u001b[1;31mProgrammingError\u001b[0m: Cannot operate on a closed database."
     ]
    }
   ],
   "source": [
    "connect.close()\n",
    "cursor.close()\n",
    "#never forget this step as,\n",
    "#it is an important step for security and maintaining data integrity\n",
    "# I am getting an error as I have already commited this step "
   ]
  },
  {
   "cell_type": "code",
   "execution_count": 12,
   "id": "4a74eb77",
   "metadata": {},
   "outputs": [
    {
     "data": {
      "text/html": [
       "<div>\n",
       "<style scoped>\n",
       "    .dataframe tbody tr th:only-of-type {\n",
       "        vertical-align: middle;\n",
       "    }\n",
       "\n",
       "    .dataframe tbody tr th {\n",
       "        vertical-align: top;\n",
       "    }\n",
       "\n",
       "    .dataframe thead th {\n",
       "        text-align: right;\n",
       "    }\n",
       "</style>\n",
       "<table border=\"1\" class=\"dataframe\">\n",
       "  <thead>\n",
       "    <tr style=\"text-align: right;\">\n",
       "      <th></th>\n",
       "      <th>0</th>\n",
       "      <th>1</th>\n",
       "      <th>2</th>\n",
       "    </tr>\n",
       "  </thead>\n",
       "  <tbody>\n",
       "    <tr>\n",
       "      <th>0</th>\n",
       "      <td>Rice</td>\n",
       "      <td>200</td>\n",
       "      <td>7</td>\n",
       "    </tr>\n",
       "    <tr>\n",
       "      <th>1</th>\n",
       "      <td>Beans</td>\n",
       "      <td>250</td>\n",
       "      <td>10</td>\n",
       "    </tr>\n",
       "    <tr>\n",
       "      <th>2</th>\n",
       "      <td>Pulse</td>\n",
       "      <td>137</td>\n",
       "      <td>25</td>\n",
       "    </tr>\n",
       "    <tr>\n",
       "      <th>3</th>\n",
       "      <td>Toothpaste</td>\n",
       "      <td>10</td>\n",
       "      <td>15</td>\n",
       "    </tr>\n",
       "    <tr>\n",
       "      <th>4</th>\n",
       "      <td>Cooking_Oil</td>\n",
       "      <td>190</td>\n",
       "      <td>14</td>\n",
       "    </tr>\n",
       "    <tr>\n",
       "      <th>5</th>\n",
       "      <td>water</td>\n",
       "      <td>2</td>\n",
       "      <td>40</td>\n",
       "    </tr>\n",
       "  </tbody>\n",
       "</table>\n",
       "</div>"
      ],
      "text/plain": [
       "             0    1   2\n",
       "0         Rice  200   7\n",
       "1        Beans  250  10\n",
       "2        Pulse  137  25\n",
       "3   Toothpaste   10  15\n",
       "4  Cooking_Oil  190  14\n",
       "5        water    2  40"
      ]
     },
     "execution_count": 12,
     "metadata": {},
     "output_type": "execute_result"
    }
   ],
   "source": [
    "df = pd.DataFrame(entire_shop)\n",
    "df\n",
    "#panda allows us to create a dataframe using the sql query for further analysis\n"
   ]
  },
  {
   "cell_type": "code",
   "execution_count": 13,
   "id": "af2b4a99",
   "metadata": {},
   "outputs": [
    {
     "data": {
      "text/html": [
       "<div>\n",
       "<style scoped>\n",
       "    .dataframe tbody tr th:only-of-type {\n",
       "        vertical-align: middle;\n",
       "    }\n",
       "\n",
       "    .dataframe tbody tr th {\n",
       "        vertical-align: top;\n",
       "    }\n",
       "\n",
       "    .dataframe thead th {\n",
       "        text-align: right;\n",
       "    }\n",
       "</style>\n",
       "<table border=\"1\" class=\"dataframe\">\n",
       "  <thead>\n",
       "    <tr style=\"text-align: right;\">\n",
       "      <th></th>\n",
       "      <th>Groceries</th>\n",
       "      <th>Price</th>\n",
       "      <th>Quantity</th>\n",
       "    </tr>\n",
       "  </thead>\n",
       "  <tbody>\n",
       "    <tr>\n",
       "      <th>0</th>\n",
       "      <td>Rice</td>\n",
       "      <td>200</td>\n",
       "      <td>7</td>\n",
       "    </tr>\n",
       "    <tr>\n",
       "      <th>1</th>\n",
       "      <td>Beans</td>\n",
       "      <td>250</td>\n",
       "      <td>10</td>\n",
       "    </tr>\n",
       "    <tr>\n",
       "      <th>2</th>\n",
       "      <td>Pulse</td>\n",
       "      <td>137</td>\n",
       "      <td>25</td>\n",
       "    </tr>\n",
       "    <tr>\n",
       "      <th>3</th>\n",
       "      <td>Toothpaste</td>\n",
       "      <td>10</td>\n",
       "      <td>15</td>\n",
       "    </tr>\n",
       "    <tr>\n",
       "      <th>4</th>\n",
       "      <td>Cooking_Oil</td>\n",
       "      <td>190</td>\n",
       "      <td>14</td>\n",
       "    </tr>\n",
       "    <tr>\n",
       "      <th>5</th>\n",
       "      <td>water</td>\n",
       "      <td>2</td>\n",
       "      <td>40</td>\n",
       "    </tr>\n",
       "  </tbody>\n",
       "</table>\n",
       "</div>"
      ],
      "text/plain": [
       "     Groceries  Price  Quantity\n",
       "0         Rice    200         7\n",
       "1        Beans    250        10\n",
       "2        Pulse    137        25\n",
       "3   Toothpaste     10        15\n",
       "4  Cooking_Oil    190        14\n",
       "5        water      2        40"
      ]
     },
     "execution_count": 13,
     "metadata": {},
     "output_type": "execute_result"
    }
   ],
   "source": [
    "df.rename(columns={0:'Groceries', 1:'Price',2:'Quantity'})"
   ]
  },
  {
   "cell_type": "markdown",
   "id": "eda16fe4",
   "metadata": {},
   "source": [
    "### Tasks - Execute these queries\n"
   ]
  },
  {
   "cell_type": "code",
   "execution_count": 17,
   "id": "4c21701e",
   "metadata": {},
   "outputs": [],
   "source": [
    "new_connect = sql.connect('minishop.db')\n",
    "new_cursor = new_connect.cursor()"
   ]
  },
  {
   "cell_type": "markdown",
   "id": "8320af3e",
   "metadata": {},
   "source": [
    "Filtering Data Using WHERE:\n",
    "\n",
    "    SELECT column1, column2\n",
    "    FROM tablename\n",
    "    WHERE column1 = 'some_value';\n"
   ]
  },
  {
   "cell_type": "code",
   "execution_count": 19,
   "id": "e625763f",
   "metadata": {},
   "outputs": [
    {
     "data": {
      "text/plain": [
       "[('Rice', 200)]"
      ]
     },
     "execution_count": 19,
     "metadata": {},
     "output_type": "execute_result"
    }
   ],
   "source": [
    "new_cursor.execute(\"\"\"Select Groceries, Price From mart \n",
    "                   WHERE Groceries = 'Rice' \"\"\").fetchall()"
   ]
  },
  {
   "cell_type": "markdown",
   "id": "2697389a",
   "metadata": {},
   "source": [
    "Sorting Data with ORDER BY:\n",
    "\n",
    "    SELECT column1, column2\n",
    "    FROM tablename\n",
    "    ORDER BY column1 DESC;   -- DESC for descending,ASC for ascending (which is default)  "
   ]
  },
  {
   "cell_type": "code",
   "execution_count": 21,
   "id": "347a511a",
   "metadata": {},
   "outputs": [
    {
     "data": {
      "text/plain": [
       "[('water', 2),\n",
       " ('Toothpaste', 10),\n",
       " ('Pulse', 137),\n",
       " ('Cooking_Oil', 190),\n",
       " ('Rice', 200),\n",
       " ('Beans', 250)]"
      ]
     },
     "execution_count": 21,
     "metadata": {},
     "output_type": "execute_result"
    }
   ],
   "source": [
    "new_cursor.execute(\"\"\" Select Groceries, Price From mart Order by Price \"\"\").fetchall()"
   ]
  },
  {
   "cell_type": "markdown",
   "id": "1d398b32",
   "metadata": {},
   "source": [
    "Limiting Results with LIMIT:\n",
    "\n",
    "    SELECT column1, column2\n",
    "    FROM tablename\n",
    "    LIMIT 10 OFFSET 20;  -- Skips the first 20 records and fetches the next 10."
   ]
  },
  {
   "cell_type": "code",
   "execution_count": 24,
   "id": "e6138adf",
   "metadata": {},
   "outputs": [
    {
     "data": {
      "text/plain": [
       "[('Cooking_Oil', 14), ('water', 40)]"
      ]
     },
     "execution_count": 24,
     "metadata": {},
     "output_type": "execute_result"
    }
   ],
   "source": [
    "new_cursor.execute(\"\"\" Select Groceries, Qunatity From mart Limit 2 Offset 4\"\"\").fetchall()"
   ]
  },
  {
   "cell_type": "code",
   "execution_count": 25,
   "id": "f4e427cd",
   "metadata": {},
   "outputs": [
    {
     "data": {
      "text/plain": [
       "[('Rice', 7), ('Beans', 10)]"
      ]
     },
     "execution_count": 25,
     "metadata": {},
     "output_type": "execute_result"
    }
   ],
   "source": [
    "new_cursor.execute(\"\"\" Select Groceries, Qunatity From mart Limit 2 \"\"\").fetchall()\n",
    "#trying different scenarios"
   ]
  },
  {
   "cell_type": "code",
   "execution_count": 27,
   "id": "8ffac4a2",
   "metadata": {},
   "outputs": [
    {
     "data": {
      "text/plain": [
       "[('Rice', 7),\n",
       " ('Beans', 10),\n",
       " ('Pulse', 25),\n",
       " ('Toothpaste', 15),\n",
       " ('Cooking_Oil', 14),\n",
       " ('water', 40)]"
      ]
     },
     "execution_count": 27,
     "metadata": {},
     "output_type": "execute_result"
    }
   ],
   "source": [
    "new_cursor.execute(\"\"\" Select Groceries, Qunatity From mart Offset \"\"\").fetchall()"
   ]
  },
  {
   "cell_type": "markdown",
   "id": "b499c554",
   "metadata": {},
   "source": [
    "Fetching Unique Records with DISTINCT:\n",
    "\n",
    "    SELECT DISTINCT column1\n",
    "    FROM tablename;"
   ]
  },
  {
   "cell_type": "code",
   "execution_count": 28,
   "id": "adc9649f",
   "metadata": {},
   "outputs": [
    {
     "data": {
      "text/plain": [
       "[('Rice',),\n",
       " ('Beans',),\n",
       " ('Pulse',),\n",
       " ('Toothpaste',),\n",
       " ('Cooking_Oil',),\n",
       " ('water',)]"
      ]
     },
     "execution_count": 28,
     "metadata": {},
     "output_type": "execute_result"
    }
   ],
   "source": [
    "new_connect.execute('Select Distinct Groceries From mart').fetchall()"
   ]
  },
  {
   "cell_type": "code",
   "execution_count": null,
   "id": "a8ecfab1",
   "metadata": {},
   "outputs": [],
   "source": [
    "#connecting to the database in the local host(own laptop workbench)\n",
    "conn = mysql.connector.connect(\n",
    "       host = 'localhost',\n",
    "    username = 'root',\n",
    "password = '*******',\n",
    "    database = 'Mart.db',\n",
    "    auth_plugin='mysql_native_password'\n",
    ")\n",
    "#auth_plugin specifies the authentication method used to connect to MySql Sever \n",
    "#mysqlnativepassword is most use cases due to its improved security"
   ]
  },
  {
   "cell_type": "code",
   "execution_count": null,
   "id": "a882498a",
   "metadata": {},
   "outputs": [],
   "source": [
    "query1 = \"Select * From Table\"\n",
    "datafr= pd.read_sql(query,conn)\n",
    "datafr"
   ]
  }
 ],
 "metadata": {
  "kernelspec": {
   "display_name": "Python 3 (ipykernel)",
   "language": "python",
   "name": "python3"
  },
  "language_info": {
   "codemirror_mode": {
    "name": "ipython",
    "version": 3
   },
   "file_extension": ".py",
   "mimetype": "text/x-python",
   "name": "python",
   "nbconvert_exporter": "python",
   "pygments_lexer": "ipython3",
   "version": "3.11.4"
  }
 },
 "nbformat": 4,
 "nbformat_minor": 5
}
