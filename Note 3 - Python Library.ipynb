{
 "cells": [
  {
   "cell_type": "markdown",
   "id": "0235b5fe",
   "metadata": {},
   "source": [
    "<h1 align=\\\"center\\\"><font color='green'><font size=\\\"6\\\">Python - Library</font> </h1>"
   ]
  },
  {
   "cell_type": "markdown",
   "id": "1f65e876",
   "metadata": {},
   "source": [
    "<div style=\"background-color: #90EE90;\">.</div>  </div>"
   ]
  },
  {
   "cell_type": "markdown",
   "id": "40c01d8f",
   "metadata": {},
   "source": [
    " - A library is a collection of modules and packages. Libraries provide pre-built functions and tools to make programming easier.\n",
    " - Libraries can be installed using Python’s package manager, pip."
   ]
  },
  {
   "cell_type": "markdown",
   "id": "1c43f79e",
   "metadata": {},
   "source": [
    "-  Some popular Python libraries include:\n",
    "   - NumPy: For numerical operations and arrays.\n",
    "   - Pandas: For data manipulation and analysis.\n",
    "   - Matplotlib: For plotting graphs and data visualization.\n",
    "   - Requests: For making HTTP requests."
   ]
  },
  {
   "cell_type": "markdown",
   "id": "e8556e8d",
   "metadata": {},
   "source": [
    "## Numpy"
   ]
  },
  {
   "cell_type": "markdown",
   "id": "cd222c38",
   "metadata": {},
   "source": [
    " - NumPy (Numerical Python) is a library for the Python programming language that provides support for large, multi-dimensional arrays and matrices, along with a collection of mathematical functions to operate on these arrays.\n",
    " - It is a fundamental package for scientific computing in Python.\n"
   ]
  },
  {
   "cell_type": "markdown",
   "id": "c0d8eed1",
   "metadata": {},
   "source": [
    " - A package is a collection of related modules. It allows code to be organized hierarchically into directories and subdirectories.\n",
    " - You can use and create packages to group similar functionalities in one place."
   ]
  },
  {
   "cell_type": "markdown",
   "id": "3092d687",
   "metadata": {},
   "source": [
    "- To use NumPy You need to install it.\n",
    "- As mentioned above, you can install NumPy using pip if it is not already installed:"
   ]
  },
  {
   "cell_type": "code",
   "execution_count": 1,
   "id": "283a66b3",
   "metadata": {},
   "outputs": [
    {
     "name": "stdout",
     "output_type": "stream",
     "text": [
      "Defaulting to user installation because normal site-packages is not writeable\n",
      "Requirement already satisfied: numpy in c:\\programdata\\anaconda3\\lib\\site-packages (1.24.3)\n"
     ]
    }
   ],
   "source": [
    "!pip install numpy\n",
    "#I got this result as I already have numpy installed in my system"
   ]
  },
  {
   "cell_type": "code",
   "execution_count": 3,
   "id": "92a20188",
   "metadata": {},
   "outputs": [],
   "source": [
    "#To use NumPy in your code, you need to import it. The conventional alias for NumPy is np.\n",
    "import numpy as np"
   ]
  },
  {
   "cell_type": "markdown",
   "id": "93af0430",
   "metadata": {},
   "source": [
    "#### NumPy Arrays\n",
    " - NumPy arrays are the central feature of the library. \n",
    "  - They can be created from Python lists or tuples."
   ]
  },
  {
   "cell_type": "markdown",
   "id": "146a131d",
   "metadata": {},
   "source": [
    "#### Array Attributes\n",
    " - NumPy arrays have several important attributes:\n",
    "\n",
    "    - shape: The dimensions of the array.\n",
    "    - dtype: The data type of the array elements.\n",
    "    - ndim: The number of dimensions (axes)."
   ]
  },
  {
   "cell_type": "code",
   "execution_count": 4,
   "id": "9f08cc87",
   "metadata": {},
   "outputs": [
    {
     "name": "stdout",
     "output_type": "stream",
     "text": [
      "1D Array: [1 2 3 4 5]\n"
     ]
    }
   ],
   "source": [
    "import numpy as np\n",
    "\n",
    "# Creating a 1D array from a list\n",
    "array_1d = np.array([1, 2, 3, 4, 5])\n",
    "print(\"1D Array:\", array_1d)"
   ]
  },
  {
   "cell_type": "code",
   "execution_count": 5,
   "id": "345f6c24",
   "metadata": {},
   "outputs": [
    {
     "name": "stdout",
     "output_type": "stream",
     "text": [
      "2D Array:\n",
      " [[1 2 3]\n",
      " [4 5 6]]\n"
     ]
    }
   ],
   "source": [
    "# Creating a 2D array from a list of lists\n",
    "array_2d = np.array([[1, 2, 3], [4, 5, 6]])\n",
    "print(\"2D Array:\\n\", array_2d) #\\n means new line"
   ]
  },
  {
   "cell_type": "code",
   "execution_count": 6,
   "id": "23059bb4",
   "metadata": {},
   "outputs": [
    {
     "name": "stdout",
     "output_type": "stream",
     "text": [
      "Shape: (2, 3)\n",
      "Data Type: int32\n",
      "Number of Dimensions: 2\n"
     ]
    }
   ],
   "source": [
    "# Array attributes\n",
    "print(\"Shape:\", array_2d.shape)\n",
    "print(\"Data Type:\", array_2d.dtype)\n",
    "print(\"Number of Dimensions:\", array_2d.ndim)"
   ]
  },
  {
   "cell_type": "markdown",
   "id": "f6f77d56",
   "metadata": {},
   "source": [
    "Array Operations\n",
    " - NumPy provides a variety of operations to perform on arrays.\n",
    " - You can perform arithmetic operations element-wise on NumPy arrays."
   ]
  },
  {
   "cell_type": "code",
   "execution_count": 7,
   "id": "a9a9091b",
   "metadata": {},
   "outputs": [
    {
     "name": "stdout",
     "output_type": "stream",
     "text": [
      "Sum Array: [5 7 9]\n",
      "Product Array: [ 4 10 18]\n"
     ]
    }
   ],
   "source": [
    "# Element-wise addition\n",
    "array_a = np.array([1, 2, 3])\n",
    "array_b = np.array([4, 5, 6])\n",
    "sum_array = array_a + array_b\n",
    "print(\"Sum Array:\", sum_array)\n",
    "\n",
    "# Element-wise multiplication\n",
    "product_array = array_a * array_b\n",
    "print(\"Product Array:\", product_array)\n"
   ]
  },
  {
   "cell_type": "markdown",
   "id": "9d985583",
   "metadata": {},
   "source": [
    "\n",
    " - NumPy provides universal functions (ufuncs) to perform element-wise operations.\n"
   ]
  },
  {
   "cell_type": "code",
   "execution_count": 8,
   "id": "404458c4",
   "metadata": {},
   "outputs": [
    {
     "name": "stdout",
     "output_type": "stream",
     "text": [
      "Square Root Array: [1.         1.41421356 1.73205081]\n",
      "Exponential Array: [ 2.71828183  7.3890561  20.08553692]\n"
     ]
    }
   ],
   "source": [
    "# Applying square root\n",
    "sqrt_array = np.sqrt(array_a)\n",
    "print(\"Square Root Array:\", sqrt_array)\n",
    "\n",
    "# Applying exponential\n",
    "exp_array = np.exp(array_a)\n",
    "print(\"Exponential Array:\", exp_array)\n"
   ]
  },
  {
   "cell_type": "markdown",
   "id": "c67e0418",
   "metadata": {},
   "source": [
    "\n",
    "\n",
    "- You can change the shape of an array using the reshape method."
   ]
  },
  {
   "cell_type": "code",
   "execution_count": 9,
   "id": "66ce324d",
   "metadata": {},
   "outputs": [
    {
     "name": "stdout",
     "output_type": "stream",
     "text": [
      "Reshaped Array:\n",
      " [[1]\n",
      " [2]\n",
      " [3]]\n"
     ]
    }
   ],
   "source": [
    "# Reshaping a 1D array to a 2D array\n",
    "reshaped_array = array_a.reshape((3, 1))\n",
    "print(\"Reshaped Array:\\n\", reshaped_array)\n"
   ]
  },
  {
   "cell_type": "markdown",
   "id": "64a9c973",
   "metadata": {},
   "source": [
    "Basic Indexing"
   ]
  },
  {
   "cell_type": "code",
   "execution_count": 10,
   "id": "21782ffd",
   "metadata": {},
   "outputs": [
    {
     "name": "stdout",
     "output_type": "stream",
     "text": [
      "Element at (0, 1): 2\n"
     ]
    }
   ],
   "source": [
    "# Accessing individual elements\n",
    "element = array_2d[0, 1]\n",
    "print(\"Element at (0, 1):\", element)\n"
   ]
  },
  {
   "cell_type": "markdown",
   "id": "42c30701",
   "metadata": {},
   "source": [
    "Slicing Arrays"
   ]
  },
  {
   "cell_type": "code",
   "execution_count": 11,
   "id": "28042a70",
   "metadata": {},
   "outputs": [
    {
     "name": "stdout",
     "output_type": "stream",
     "text": [
      "Sliced Array:\n",
      " [[2 3]\n",
      " [5 6]]\n"
     ]
    }
   ],
   "source": [
    "# Slicing a 2D array\n",
    "sliced_array = array_2d[0:2, 1:3]\n",
    "print(\"Sliced Array:\\n\", sliced_array)\n"
   ]
  },
  {
   "cell_type": "markdown",
   "id": "81912e61",
   "metadata": {},
   "source": [
    "\n",
    " - You can use boolean arrays to index and filter data."
   ]
  },
  {
   "cell_type": "code",
   "execution_count": 12,
   "id": "1f16f459",
   "metadata": {},
   "outputs": [
    {
     "name": "stdout",
     "output_type": "stream",
     "text": [
      "Filtered Array: [4 5 6]\n"
     ]
    }
   ],
   "source": [
    "# Boolean indexing\n",
    "boolean_index = array_2d > 3\n",
    "filtered_array = array_2d[boolean_index]\n",
    "print(\"Filtered Array:\", filtered_array)\n"
   ]
  },
  {
   "cell_type": "markdown",
   "id": "91c8cfde",
   "metadata": {},
   "source": [
    "\n",
    " - NumPy includes a variety of functions for mathematical operations, statistics, and more."
   ]
  },
  {
   "cell_type": "code",
   "execution_count": 13,
   "id": "b43f96d6",
   "metadata": {},
   "outputs": [
    {
     "name": "stdout",
     "output_type": "stream",
     "text": [
      "Mean: 3.5\n",
      "Standard Deviation: 1.707825127659933\n"
     ]
    }
   ],
   "source": [
    "# Calculating mean and standard deviation\n",
    "mean_value = np.mean(array_2d)\n",
    "std_dev_value = np.std(array_2d)\n",
    "print(\"Mean:\", mean_value)\n",
    "print(\"Standard Deviation:\", std_dev_value)\n"
   ]
  },
  {
   "cell_type": "code",
   "execution_count": 14,
   "id": "fd7f5860",
   "metadata": {},
   "outputs": [
    {
     "name": "stdout",
     "output_type": "stream",
     "text": [
      "Sum: 21\n",
      "Product: 720\n"
     ]
    }
   ],
   "source": [
    "# Calculating sum and product\n",
    "sum_value = np.sum(array_2d)\n",
    "product_value = np.prod(array_2d)\n",
    "print(\"Sum:\", sum_value)\n",
    "print(\"Product:\", product_value)\n"
   ]
  },
  {
   "cell_type": "markdown",
   "id": "a1964c00",
   "metadata": {},
   "source": [
    " - NumPy provides functions to generate random numbers."
   ]
  },
  {
   "cell_type": "code",
   "execution_count": 15,
   "id": "ea0606a9",
   "metadata": {},
   "outputs": [
    {
     "name": "stdout",
     "output_type": "stream",
     "text": [
      "Random Array:\n",
      " [[0.81547143 0.3001853  0.06041686]\n",
      " [0.21288336 0.26863038 0.57876091]\n",
      " [0.22448935 0.32077099 0.17291083]]\n"
     ]
    }
   ],
   "source": [
    "# Generating a random array\n",
    "random_array = np.random.rand(3, 3)\n",
    "print(\"Random Array:\\n\", random_array)\n"
   ]
  },
  {
   "cell_type": "markdown",
   "id": "5e886089",
   "metadata": {},
   "source": [
    " - NumPy has a submodule numpy.linalg for linear algebra operations."
   ]
  },
  {
   "cell_type": "code",
   "execution_count": 16,
   "id": "0ac27199",
   "metadata": {},
   "outputs": [
    {
     "name": "stdout",
     "output_type": "stream",
     "text": [
      "Matrix Product:\n",
      " [[19 22]\n",
      " [43 50]]\n"
     ]
    }
   ],
   "source": [
    "# Matrix multiplication\n",
    "matrix_a = np.array([[1, 2], [3, 4]])\n",
    "matrix_b = np.array([[5, 6], [7, 8]])\n",
    "product_matrix = np.dot(matrix_a, matrix_b)\n",
    "print(\"Matrix Product:\\n\", product_matrix)\n"
   ]
  },
  {
   "cell_type": "markdown",
   "id": "76fc8f81",
   "metadata": {},
   "source": [
    "NumPy is a powerful tool for numerical computing in Python, providing efficient array operations and mathematical functions. Experiment with these features to leverage NumPy's full capabilities:\n",
    " - Creating Arrays: Use np.array(), np.zeros(), np.ones(), np.arange(), etc.\n",
    " - Array Operations: Arithmetic, universal functions, and reshaping.\n",
    " - Indexing and Slicing: Access and manipulate array elements.\n",
    " - Common Functions: Statistical functions, mathematical operations.\n",
    " - Random Numbers: Generate random arrays with np.random.\n",
    " - Linear Algebra: Matrix operations using numpy.linalg.\n",
    " "
   ]
  },
  {
   "cell_type": "markdown",
   "id": "82ad1182",
   "metadata": {},
   "source": [
    "## Pandas"
   ]
  },
  {
   "cell_type": "markdown",
   "id": "50121381",
   "metadata": {},
   "source": [
    " - Pandas is a powerful and widely-used Python library for data manipulation and analysis.\n",
    " - Pandas is often used in conjunction with libraries like NumPy and Matplotlib.\n",
    "\n"
   ]
  },
  {
   "cell_type": "markdown",
   "id": "4093716b",
   "metadata": {},
   "source": [
    "Key Features of Pandas:\n",
    " - Data cleaning and preparation: Handle missing values, filter data, and apply transformations.\n",
    " - Data wrangling: Efficiently reshape, merge, and slice data.\n",
    " - Easy I/O: Read and write data from CSV, Excel, databases, and more.\n",
    " - Time-series functionality: Powerful tools for time-based data."
   ]
  },
  {
   "cell_type": "markdown",
   "id": "248089a4",
   "metadata": {},
   "source": [
    "The two primary data structures in pandas are:\n",
    "\n",
    " - Series: A one-dimensional labeled array capable of holding any data type such as integers, floats, or strings.\n",
    " - DataFrame: A two-dimensional labeled data structure, similar to a table in relational databases or Excel spreadsheets."
   ]
  },
  {
   "cell_type": "code",
   "execution_count": null,
   "id": "744fb36e",
   "metadata": {},
   "outputs": [],
   "source": [
    "#To use pandas, you first need to install and import it:\n",
    "!pip install pandas"
   ]
  },
  {
   "cell_type": "code",
   "execution_count": 17,
   "id": "a0f76113",
   "metadata": {},
   "outputs": [],
   "source": [
    "import pandas as pd  # Standard alias for pandas"
   ]
  },
  {
   "cell_type": "code",
   "execution_count": 18,
   "id": "fc3e9541",
   "metadata": {},
   "outputs": [
    {
     "name": "stdout",
     "output_type": "stream",
     "text": [
      "0    10\n",
      "1    20\n",
      "2    30\n",
      "3    40\n",
      "4    50\n",
      "dtype: int64\n"
     ]
    }
   ],
   "source": [
    "# Create a Series with default index\n",
    "s = pd.Series([10, 20, 30, 40, 50])\n",
    "print(s)"
   ]
  },
  {
   "cell_type": "code",
   "execution_count": 19,
   "id": "881faa2b",
   "metadata": {},
   "outputs": [
    {
     "name": "stdout",
     "output_type": "stream",
     "text": [
      "a    10\n",
      "b    20\n",
      "c    30\n",
      "dtype: int64\n"
     ]
    }
   ],
   "source": [
    "#Creating a Series with a Custom Index\n",
    "s = pd.Series([10, 20, 30], index=['a', 'b', 'c'])\n",
    "print(s)"
   ]
  },
  {
   "cell_type": "markdown",
   "id": "03f73f7d",
   "metadata": {},
   "source": [
    "#### Dataframe\n",
    " - A DataFrame is a two-dimensional, size-mutable, and potentially heterogeneous tabular data structure. \n",
    " - It is similar to a table in a database or an Excel spreadsheet."
   ]
  },
  {
   "cell_type": "code",
   "execution_count": 20,
   "id": "819836c7",
   "metadata": {},
   "outputs": [
    {
     "name": "stdout",
     "output_type": "stream",
     "text": [
      "      Name  Age  Salary\n",
      "0     Risa   25   50000\n",
      "1   Babita   30   60000\n",
      "2   Chintu   35   70000\n",
      "3     Sima   36   75000\n",
      "4  Jhilmil   23   45000\n",
      "5      Ram   32   55000\n",
      "6    Shyam   56   67000\n",
      "7   Laxman   45   70000\n",
      "8    Nishi   24   32000\n"
     ]
    }
   ],
   "source": [
    "# Creating a DataFrame\n",
    "data = {\n",
    "    'Name': ['Risa', 'Babita', 'Chintu','Sima', 'Jhilmil', 'Ram','Shyam','Laxman','Nishi'],\n",
    "    'Age': [25, 30, 35, 36, 23, 32, 56, 45, 24],\n",
    "    'Salary': [50000, 60000, 70000, 75000, 45000, 55000, 67000, 70000, 32000]\n",
    "}\n",
    "\n",
    "df = pd.DataFrame(data)\n",
    "print(df)\n"
   ]
  },
  {
   "cell_type": "code",
   "execution_count": 21,
   "id": "17afbf13",
   "metadata": {},
   "outputs": [],
   "source": [
    "#Writing to a CSV File\n",
    "#converting the dataframe created to a Csv file\n",
    "df.to_csv('output.csv', index=False)  # index=False to exclude the index"
   ]
  },
  {
   "cell_type": "code",
   "execution_count": 22,
   "id": "0f028b71",
   "metadata": {},
   "outputs": [],
   "source": [
    "#Reading a CSV File\n",
    "data = pd.read_csv('output.csv')"
   ]
  },
  {
   "cell_type": "markdown",
   "id": "bf334dd1",
   "metadata": {},
   "source": [
    " - Pandas makes it easy to read and write data from various file formats such as CSV, Excel, and SQL databases"
   ]
  },
  {
   "cell_type": "code",
   "execution_count": 23,
   "id": "5651a8f7",
   "metadata": {},
   "outputs": [
    {
     "name": "stdout",
     "output_type": "stream",
     "text": [
      "      Name  Age  Salary\n",
      "0     Risa   25   50000\n",
      "1   Babita   30   60000\n",
      "2   Chintu   35   70000\n",
      "3     Sima   36   75000\n",
      "4  Jhilmil   23   45000\n"
     ]
    }
   ],
   "source": [
    "print(data.head())# Displays the first 5 rows"
   ]
  },
  {
   "cell_type": "code",
   "execution_count": 24,
   "id": "21509368",
   "metadata": {},
   "outputs": [
    {
     "name": "stdout",
     "output_type": "stream",
     "text": [
      "0       Risa\n",
      "1     Babita\n",
      "2     Chintu\n",
      "3       Sima\n",
      "4    Jhilmil\n",
      "5        Ram\n",
      "6      Shyam\n",
      "7     Laxman\n",
      "8      Nishi\n",
      "Name: Name, dtype: object\n"
     ]
    },
    {
     "data": {
      "text/html": [
       "<div>\n",
       "<style scoped>\n",
       "    .dataframe tbody tr th:only-of-type {\n",
       "        vertical-align: middle;\n",
       "    }\n",
       "\n",
       "    .dataframe tbody tr th {\n",
       "        vertical-align: top;\n",
       "    }\n",
       "\n",
       "    .dataframe thead th {\n",
       "        text-align: right;\n",
       "    }\n",
       "</style>\n",
       "<table border=\"1\" class=\"dataframe\">\n",
       "  <thead>\n",
       "    <tr style=\"text-align: right;\">\n",
       "      <th></th>\n",
       "      <th>Name</th>\n",
       "      <th>Age</th>\n",
       "    </tr>\n",
       "  </thead>\n",
       "  <tbody>\n",
       "    <tr>\n",
       "      <th>0</th>\n",
       "      <td>Risa</td>\n",
       "      <td>25</td>\n",
       "    </tr>\n",
       "    <tr>\n",
       "      <th>1</th>\n",
       "      <td>Babita</td>\n",
       "      <td>30</td>\n",
       "    </tr>\n",
       "    <tr>\n",
       "      <th>2</th>\n",
       "      <td>Chintu</td>\n",
       "      <td>35</td>\n",
       "    </tr>\n",
       "    <tr>\n",
       "      <th>3</th>\n",
       "      <td>Sima</td>\n",
       "      <td>36</td>\n",
       "    </tr>\n",
       "    <tr>\n",
       "      <th>4</th>\n",
       "      <td>Jhilmil</td>\n",
       "      <td>23</td>\n",
       "    </tr>\n",
       "    <tr>\n",
       "      <th>5</th>\n",
       "      <td>Ram</td>\n",
       "      <td>32</td>\n",
       "    </tr>\n",
       "    <tr>\n",
       "      <th>6</th>\n",
       "      <td>Shyam</td>\n",
       "      <td>56</td>\n",
       "    </tr>\n",
       "    <tr>\n",
       "      <th>7</th>\n",
       "      <td>Laxman</td>\n",
       "      <td>45</td>\n",
       "    </tr>\n",
       "    <tr>\n",
       "      <th>8</th>\n",
       "      <td>Nishi</td>\n",
       "      <td>24</td>\n",
       "    </tr>\n",
       "  </tbody>\n",
       "</table>\n",
       "</div>"
      ],
      "text/plain": [
       "      Name  Age\n",
       "0     Risa   25\n",
       "1   Babita   30\n",
       "2   Chintu   35\n",
       "3     Sima   36\n",
       "4  Jhilmil   23\n",
       "5      Ram   32\n",
       "6    Shyam   56\n",
       "7   Laxman   45\n",
       "8    Nishi   24"
      ]
     },
     "execution_count": 24,
     "metadata": {},
     "output_type": "execute_result"
    }
   ],
   "source": [
    "# Accessing a single column\n",
    "print(data['Name'])\n",
    "\n",
    "# Accessing multiple columns\n",
    "data[['Name', 'Age']]"
   ]
  },
  {
   "cell_type": "code",
   "execution_count": 25,
   "id": "d4ee127e",
   "metadata": {},
   "outputs": [
    {
     "name": "stdout",
     "output_type": "stream",
     "text": [
      "Name       Risa\n",
      "Age          25\n",
      "Salary    50000\n",
      "Name: 0, dtype: object\n"
     ]
    },
    {
     "data": {
      "text/plain": [
       "Name      Babita\n",
       "Age           30\n",
       "Salary     60000\n",
       "Name: 1, dtype: object"
      ]
     },
     "execution_count": 25,
     "metadata": {},
     "output_type": "execute_result"
    }
   ],
   "source": [
    "# Using iloc to access the first row\n",
    "print(data.iloc[0])\n",
    "\n",
    "# Using loc to access a row by index label\n",
    "data.loc[1]\n"
   ]
  },
  {
   "cell_type": "code",
   "execution_count": 26,
   "id": "6330b25b",
   "metadata": {},
   "outputs": [
    {
     "name": "stdout",
     "output_type": "stream",
     "text": [
      "     Name  Age  Salary\n",
      "2  Chintu   35   70000\n",
      "3    Sima   36   75000\n",
      "5     Ram   32   55000\n",
      "6   Shyam   56   67000\n",
      "7  Laxman   45   70000\n"
     ]
    }
   ],
   "source": [
    "# Filter rows where Age is greater than 30\n",
    "filtered_data = data[data['Age'] > 30]\n",
    "print(filtered_data)"
   ]
  },
  {
   "cell_type": "code",
   "execution_count": 27,
   "id": "fd9793f4",
   "metadata": {},
   "outputs": [
    {
     "name": "stdout",
     "output_type": "stream",
     "text": [
      "    Name    Age  Salary\n",
      "0  False  False   False\n",
      "1  False  False   False\n",
      "2  False  False   False\n",
      "3  False  False   False\n",
      "4  False  False   False\n",
      "5  False  False   False\n",
      "6  False  False   False\n",
      "7  False  False   False\n",
      "8  False  False   False\n",
      "Name      0\n",
      "Age       0\n",
      "Salary    0\n",
      "dtype: int64\n"
     ]
    }
   ],
   "source": [
    "# Check for missing data in the DataFrame\n",
    "print(data.isnull()) #this returns a true or false\n",
    "print(data.isnull().sum()) # this gives the number of null values"
   ]
  },
  {
   "cell_type": "code",
   "execution_count": null,
   "id": "1c12bd22",
   "metadata": {},
   "outputs": [],
   "source": [
    "#since the dataframe did not have any null values\n",
    "#No further processes were necessary \n",
    "#Nut in case of the presence of Null values"
   ]
  },
  {
   "cell_type": "code",
   "execution_count": null,
   "id": "8f143e0c",
   "metadata": {},
   "outputs": [],
   "source": [
    "#We can handle them by either filling them with 0 \n",
    "data_filled = data.fillna(0)\n",
    "#or by dropping them\n",
    "data_clean = data.dropna()"
   ]
  },
  {
   "cell_type": "code",
   "execution_count": 30,
   "id": "e28a9c97",
   "metadata": {},
   "outputs": [
    {
     "data": {
      "text/plain": [
       "Age\n",
       "23    45000.0\n",
       "24    32000.0\n",
       "25    50000.0\n",
       "30    60000.0\n",
       "32    55000.0\n",
       "35    70000.0\n",
       "36    75000.0\n",
       "45    70000.0\n",
       "56    67000.0\n",
       "Name: Salary, dtype: float64"
      ]
     },
     "execution_count": 30,
     "metadata": {},
     "output_type": "execute_result"
    }
   ],
   "source": [
    "# Group data by a column and calculate the mean of another column\n",
    "grouped = data.groupby('Age')['Salary'].mean()\n",
    "grouped"
   ]
  },
  {
   "cell_type": "code",
   "execution_count": 31,
   "id": "0f0d3311",
   "metadata": {},
   "outputs": [
    {
     "name": "stdout",
     "output_type": "stream",
     "text": [
      "    Name  Age  Salary\n",
      "0  Alice   25   50000\n",
      "1    Bob   30   60000\n"
     ]
    }
   ],
   "source": [
    "#Pandas allows merging DataFrames based on a common column or index, similar to SQL joins.\n",
    "# Create two DataFrames\n",
    "df1 = pd.DataFrame({\n",
    "    'Name': ['Alice', 'Bob'],\n",
    "    'Age': [25, 30]\n",
    "})\n",
    "\n",
    "df2 = pd.DataFrame({\n",
    "    'Name': ['Alice', 'Bob'],\n",
    "    'Salary': [50000, 60000]\n",
    "})\n",
    "\n",
    "# Merge DataFrames on the 'Name' column\n",
    "merged_df = pd.merge(df1, df2, on='Name')\n",
    "print(merged_df)\n"
   ]
  },
  {
   "cell_type": "code",
   "execution_count": null,
   "id": "0468da1e",
   "metadata": {},
   "outputs": [],
   "source": [
    "# Convert a column to datetime format\n",
    "df['Date'] = pd.to_datetime(df['Date'])\n",
    "\n",
    "# Perform operations on dates\n",
    "df.set_index('Date', inplace=True)  # Set the Date column as the index"
   ]
  }
 ],
 "metadata": {
  "kernelspec": {
   "display_name": "Python 3 (ipykernel)",
   "language": "python",
   "name": "python3"
  },
  "language_info": {
   "codemirror_mode": {
    "name": "ipython",
    "version": 3
   },
   "file_extension": ".py",
   "mimetype": "text/x-python",
   "name": "python",
   "nbconvert_exporter": "python",
   "pygments_lexer": "ipython3",
   "version": "3.11.4"
  }
 },
 "nbformat": 4,
 "nbformat_minor": 5
}
