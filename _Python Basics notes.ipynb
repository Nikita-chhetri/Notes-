{
 "cells": [
  {
   "cell_type": "markdown",
   "id": "4b9e0766",
   "metadata": {},
   "source": [
    "<h1 align=\\\"center\\\"><font color='green'><font size=\\\"6\\\">Python - The Programming Language</font> </h1>"
   ]
  },
  {
   "cell_type": "markdown",
   "id": "107fd05f",
   "metadata": {},
   "source": [
    "<div style=\"background-color: #90EE90;\">.</div>  </div>"
   ]
  },
  {
   "cell_type": "markdown",
   "id": "f0584ab1",
   "metadata": {},
   "source": [
    " - Python is a high-level, interpreted programming language known for its readability, simplicity, and versatility. It is an interpreted language, meaning that code is executed line-by-line, which can make debugging easier and faster.\n",
    "  - Python's syntax is designed to be clear and easy to read.\n",
    " -  Python does not require explicit declaration of variable types. Meaning: It can guess what kind of data you're using based on how you use it. So, you don't have to tell it specifically if a variable is a number, word, or something else. It figures it out on its own.\n",
    " -  Python abstracts low-level operations, such as memory management, allowing you to focus more on problem-solving rather than the complexities of the machine.\n",
    " -  Python comes with a rich standard library that includes modules and functions for various tasks.\n",
    " -  Python is cross-platform and can run on various operating systems, including Windows, macOS, and Linux.\n",
    " -  Python is used in various fields, including web development (with frameworks like Django and Flask), data science and machine learning (with libraries like Pandas, NumPy, and TensorFlow), automation, scientific computing, and more.\n",
    " -  Python has a large and active community that contributes to its extensive ecosystem of libraries and frameworks. This support makes it easier to find resources, get help, and solve problems."
   ]
  },
  {
   "cell_type": "markdown",
   "id": "84f836ab",
   "metadata": {},
   "source": [
    "### Basic things to know"
   ]
  },
  {
   "cell_type": "markdown",
   "id": "a89013a8",
   "metadata": {},
   "source": [
    " - print() function is used to display output.\n",
    "  - \"#\" is used for comments.\n",
    "  - Triple quotes (\"\"\") are used for multiline comments.\n",
    "  - Triple single quotes(''') can also be used for multiline comments.\n",
    " "
   ]
  },
  {
   "cell_type": "code",
   "execution_count": 1,
   "id": "d45232d1",
   "metadata": {},
   "outputs": [
    {
     "name": "stdout",
     "output_type": "stream",
     "text": [
      "20\n"
     ]
    }
   ],
   "source": [
    "# This is a comment\n",
    "\"\"\" Hello, \n",
    "I am learning Python \"\"\"  #double quotes multiline comment\n",
    "'''Hello, \n",
    "I am learning Python ''' #single quotes multiline comment\n",
    "print(20)"
   ]
  },
  {
   "cell_type": "markdown",
   "id": "a2135eed",
   "metadata": {},
   "source": [
    "### Variables \n",
    " - Variables in Python are created when you assign a value to them. They are used to store data values.\n",
    "  - Python is case sensitive meaning Name & name means two different things.\n",
    "  - Use camelCase( studentName) or snake_case  ( student_name) for naming variables."
   ]
  },
  {
   "cell_type": "code",
   "execution_count": 2,
   "id": "5e6cb478",
   "metadata": {},
   "outputs": [
    {
     "name": "stdout",
     "output_type": "stream",
     "text": [
      "Python\n",
      "Language\n"
     ]
    }
   ],
   "source": [
    "Name = \"Python\" \n",
    "name = \"Language\" \n",
    "print(Name)\n",
    "print(name)"
   ]
  },
  {
   "cell_type": "code",
   "execution_count": 3,
   "id": "58a7366a",
   "metadata": {},
   "outputs": [
    {
     "ename": "SyntaxError",
     "evalue": "invalid syntax (2155863810.py, line 1)",
     "output_type": "error",
     "traceback": [
      "\u001b[1;36m  Cell \u001b[1;32mIn[3], line 1\u001b[1;36m\u001b[0m\n\u001b[1;33m    Student name = 'Sita'\u001b[0m\n\u001b[1;37m            ^\u001b[0m\n\u001b[1;31mSyntaxError\u001b[0m\u001b[1;31m:\u001b[0m invalid syntax\n"
     ]
    }
   ],
   "source": [
    "Student name = 'Sita'"
   ]
  },
  {
   "cell_type": "code",
   "execution_count": 4,
   "id": "2daaeeba",
   "metadata": {},
   "outputs": [],
   "source": [
    "Student_name = \"Sita\""
   ]
  },
  {
   "cell_type": "code",
   "execution_count": 5,
   "id": "44b5be1d",
   "metadata": {},
   "outputs": [
    {
     "data": {
      "text/plain": [
       "'Sita'"
      ]
     },
     "execution_count": 5,
     "metadata": {},
     "output_type": "execute_result"
    }
   ],
   "source": [
    "print(Student_name)\n",
    "#choose a style and stick with it consistently throughout your project to avoid confusion."
   ]
  },
  {
   "cell_type": "markdown",
   "id": "2c3ee2a4",
   "metadata": {},
   "source": [
    "### Data types in python\n",
    " - Integer: Whole numbers (e.g., 5, -3)\n",
    " - Float: Decimal numbers (e.g., 3.14, -0.1)\n",
    " - String: Text (e.g., \"hello\", 'world')\n",
    " - Boolean: True or False values"
   ]
  },
  {
   "cell_type": "code",
   "execution_count": 6,
   "id": "30599b44",
   "metadata": {},
   "outputs": [
    {
     "name": "stdout",
     "output_type": "stream",
     "text": [
      "10\n",
      "3.14\n",
      "Alice\n"
     ]
    }
   ],
   "source": [
    "x = 10\n",
    "y = 3.14\n",
    "name = \"Alice\" #string are always enclosed within quotes\n",
    "\n",
    "print(x)    \n",
    "print(y)    \n",
    "print(name) "
   ]
  },
  {
   "cell_type": "code",
   "execution_count": 7,
   "id": "28e9fd1b",
   "metadata": {},
   "outputs": [
    {
     "name": "stdout",
     "output_type": "stream",
     "text": [
      "<class 'int'>\n",
      "<class 'float'>\n",
      "<class 'str'>\n"
     ]
    }
   ],
   "source": [
    "#Can also check the data type \n",
    "print(type(x))    \n",
    "print(type(y))    \n",
    "print(type(name))"
   ]
  },
  {
   "cell_type": "markdown",
   "id": "064f0a8b",
   "metadata": {},
   "source": [
    "### Basic Operations\n",
    " - Python supports various operators for arithmetic, comparison, and logical operations."
   ]
  },
  {
   "cell_type": "code",
   "execution_count": 9,
   "id": "681aac86",
   "metadata": {},
   "outputs": [
    {
     "name": "stdout",
     "output_type": "stream",
     "text": [
      "13\n",
      "7\n",
      "30\n",
      "3.3333333333333335\n",
      "3\n",
      "1\n",
      "1000\n"
     ]
    }
   ],
   "source": [
    "a = 10\n",
    "b = 3\n",
    "\n",
    "print(a + b)  # Addition\n",
    "print(a - b)  # Subtraction\n",
    "print(a * b)  # Multiplication\n",
    "print(a / b)  # Division\n",
    "print(a // b) # Division that always returns an integer.\n",
    "print(a % b)  # Modulus\n",
    "print(a ** b) # Exponentiation"
   ]
  },
  {
   "cell_type": "markdown",
   "id": "2a7654f6",
   "metadata": {},
   "source": [
    "### Comparison Operators"
   ]
  },
  {
   "cell_type": "code",
   "execution_count": 10,
   "id": "cb75b8e8",
   "metadata": {},
   "outputs": [
    {
     "name": "stdout",
     "output_type": "stream",
     "text": [
      "False\n",
      "True\n",
      "True\n",
      "False\n",
      "True\n",
      "False\n"
     ]
    }
   ],
   "source": [
    "print(a == b)  # Equality\n",
    "print(a != b)  # Inequality\n",
    "print(a > b)   # Greater than\n",
    "print(a < b)   # Less than\n",
    "print(a >= b)  # Greater than or equal to\n",
    "print(a <= b)  # Less than or equal to\n",
    "#we get the results as boolean values"
   ]
  },
  {
   "cell_type": "markdown",
   "id": "0a56c85d",
   "metadata": {},
   "source": [
    "### Logical Operators"
   ]
  },
  {
   "cell_type": "code",
   "execution_count": 11,
   "id": "9bc749eb",
   "metadata": {},
   "outputs": [
    {
     "name": "stdout",
     "output_type": "stream",
     "text": [
      "False\n",
      "True\n",
      "False\n"
     ]
    }
   ],
   "source": [
    "x = True\n",
    "y = False\n",
    "\n",
    "print(x and y)  # Logical AND\n",
    "print(x or y)   # Logical OR\n",
    "print(not x)    # Logical NOT"
   ]
  },
  {
   "cell_type": "markdown",
   "id": "570d75e3",
   "metadata": {},
   "source": [
    "#### Python provides several fundamental data structures that are essential for programming and data manipulation."
   ]
  },
  {
   "cell_type": "markdown",
   "id": "b69f306a",
   "metadata": {},
   "source": [
    "- A fundamental data structure is a basic building block for organizing, storing, and managing data in a program. \n",
    "- These structures provide efficient ways to perform operations such as insertion, deletion, access, and manipulation of data.\n",
    " - They are essential for implementing algorithms and solving computational problems.\n",
    "\n"
   ]
  },
  {
   "cell_type": "markdown",
   "id": "ad18cd42",
   "metadata": {},
   "source": [
    "### Common Fundamental Data Structures:"
   ]
  },
  {
   "cell_type": "markdown",
   "id": "8bfe26b8",
   "metadata": {},
   "source": [
    "#### Lists\n",
    "\n",
    "\n",
    " -  Lists are mutable, ordered collections of items.\n",
    "  - Defined using square brackets [].\n",
    " -  Lists are zero-indexed, meaning the first element is at index 0.\n",
    " -  Lists support various operations including appending, slicing, and more"
   ]
  },
  {
   "cell_type": "code",
   "execution_count": 12,
   "id": "50e619ea",
   "metadata": {},
   "outputs": [
    {
     "name": "stdout",
     "output_type": "stream",
     "text": [
      "apple\n",
      "banana\n",
      "cherry\n"
     ]
    }
   ],
   "source": [
    "fruits = [\"apple\", \"banana\", \"cherry\"]\n",
    "\n",
    "# Accessing list elements with index\n",
    "print(fruits[0])  \n",
    "print(fruits[1])  \n",
    "print(fruits[-1]) "
   ]
  },
  {
   "cell_type": "code",
   "execution_count": 13,
   "id": "d11a87c7",
   "metadata": {},
   "outputs": [
    {
     "data": {
      "text/plain": [
       "['apple', 'banana', 'cherry', 'orange']"
      ]
     },
     "execution_count": 13,
     "metadata": {},
     "output_type": "execute_result"
    }
   ],
   "source": [
    "# Adding elements to a list\n",
    "fruits.append(\"orange\")\n",
    "fruits"
   ]
  },
  {
   "cell_type": "code",
   "execution_count": 14,
   "id": "da23c04d",
   "metadata": {},
   "outputs": [
    {
     "name": "stdout",
     "output_type": "stream",
     "text": [
      "['apple', 'blueberry', 'cherry', 'orange']\n"
     ]
    }
   ],
   "source": [
    "# Modifying elements\n",
    "fruits[1] = \"blueberry\"\n",
    "print(fruits) "
   ]
  },
  {
   "cell_type": "code",
   "execution_count": 15,
   "id": "4a58bd65",
   "metadata": {},
   "outputs": [
    {
     "data": {
      "text/plain": [
       "['apple', 'blueberry', 'cherry']"
      ]
     },
     "execution_count": 15,
     "metadata": {},
     "output_type": "execute_result"
    }
   ],
   "source": [
    "# Removing elements\n",
    "fruits.remove(\"orange\")\n",
    "fruits"
   ]
  },
  {
   "cell_type": "code",
   "execution_count": 16,
   "id": "fe5f718d",
   "metadata": {},
   "outputs": [
    {
     "name": "stdout",
     "output_type": "stream",
     "text": [
      "['blueberry', 'cherry']\n"
     ]
    }
   ],
   "source": [
    "#slicing the list\n",
    "slicing = fruits[1:3]\n",
    "print(slicing) "
   ]
  },
  {
   "cell_type": "markdown",
   "id": "32c18add",
   "metadata": {},
   "source": [
    "#### Tuples\n",
    "\n",
    "\n",
    " -  Tuples are immutable, ordered sequences in Python, used to store collections of items.\n",
    " -  Defined using parentheses ().\n",
    " -  Similar to lists, tuples are zero-indexed.\n",
    " -  Tuples support indexing and slicing, but not item assignment or deletion."
   ]
  },
  {
   "cell_type": "code",
   "execution_count": 17,
   "id": "0b05d65f",
   "metadata": {},
   "outputs": [
    {
     "name": "stdout",
     "output_type": "stream",
     "text": [
      "10\n",
      "20\n",
      "30\n"
     ]
    }
   ],
   "source": [
    "num = (10, 20, 30)\n",
    "\n",
    "# Accessing tuple elements\n",
    "print(num[0])  \n",
    "print(num[1])  \n",
    "print(num[-1])  "
   ]
  },
  {
   "cell_type": "code",
   "execution_count": 18,
   "id": "edde74a4",
   "metadata": {},
   "outputs": [
    {
     "ename": "TypeError",
     "evalue": "'tuple' object does not support item assignment",
     "output_type": "error",
     "traceback": [
      "\u001b[1;31m---------------------------------------------------------------------------\u001b[0m",
      "\u001b[1;31mTypeError\u001b[0m                                 Traceback (most recent call last)",
      "Cell \u001b[1;32mIn[18], line 1\u001b[0m\n\u001b[1;32m----> 1\u001b[0m num[\u001b[38;5;241m0\u001b[39m] \u001b[38;5;241m=\u001b[39m \u001b[38;5;241m15\u001b[39m\n",
      "\u001b[1;31mTypeError\u001b[0m: 'tuple' object does not support item assignment"
     ]
    }
   ],
   "source": [
    "num[0] = 15  \n",
    "# We got an error because\n",
    "# Tuples are immutable, so we cannot change their content"
   ]
  },
  {
   "cell_type": "code",
   "execution_count": 19,
   "id": "e1bc136a",
   "metadata": {},
   "outputs": [
    {
     "data": {
      "text/plain": [
       "(10, 20, 30, 'lily', 'Rose', 'Sunflower')"
      ]
     },
     "execution_count": 19,
     "metadata": {},
     "output_type": "execute_result"
    }
   ],
   "source": [
    "#However, we can concatenate them using + - operator\n",
    "flower=(\"lily\",\"Rose\",\"Sunflower\")\n",
    "num + flower"
   ]
  },
  {
   "cell_type": "markdown",
   "id": "e2ea8e22",
   "metadata": {},
   "source": [
    "#### Dictionaries\n",
    "\n",
    "\n",
    "-  Dictionaries are mutable, unordered collections of key-value pairs.\n",
    "-  Defined using curly braces {} with key-value pairs separated by colons.\n",
    "-  Must be immutable types (e.g., strings, numbers, tuples).\n",
    " - Values can be of any type\n",
    " \n",
    " ###### As of Python 3.7+, dictionaries maintain insertion order. However, in earlier versions, dictionaries did not guarantee any order of elements."
   ]
  },
  {
   "cell_type": "code",
   "execution_count": 20,
   "id": "faea5d35",
   "metadata": {},
   "outputs": [
    {
     "name": "stdout",
     "output_type": "stream",
     "text": [
      "Alice\n",
      "['Math', 'Science']\n"
     ]
    }
   ],
   "source": [
    "student = {\n",
    "    \"name\": \"Alice\",\n",
    "    \"age\": 21,\n",
    "    \"courses\": [\"Math\", \"Science\"]\n",
    "}\n",
    "# Accessing values by key\n",
    "print(student[\"name\"])   \n",
    "print(student[\"courses\"]) \n"
   ]
  },
  {
   "cell_type": "code",
   "execution_count": 21,
   "id": "a0ddb0db",
   "metadata": {},
   "outputs": [
    {
     "name": "stdout",
     "output_type": "stream",
     "text": [
      "{'name': 'Alice', 'age': 22, 'courses': ['Math', 'Science'], 'graduated': True}\n"
     ]
    }
   ],
   "source": [
    "# Adding or updating key-value pairs\n",
    "student[\"graduated\"] = True\n",
    "student[\"age\"] = 22\n",
    "print(student) "
   ]
  },
  {
   "cell_type": "code",
   "execution_count": 22,
   "id": "564e9394",
   "metadata": {},
   "outputs": [
    {
     "name": "stdout",
     "output_type": "stream",
     "text": [
      "{'name': 'Alice', 'age': 22, 'graduated': True}\n"
     ]
    }
   ],
   "source": [
    "# Removing key-value pairs\n",
    "del student[\"courses\"]\n",
    "print(student)"
   ]
  },
  {
   "cell_type": "markdown",
   "id": "a3ebdc96",
   "metadata": {},
   "source": [
    "#### Sets\n",
    "\n",
    "\n",
    "- Sets are mutable, unordered collections of unique elements.\n",
    "-  Defined using curly braces {} or the set() constructor.\n",
    "- Sets automatically remove duplicate entries.\n",
    "-  The elements in a set do not maintain any specific order."
   ]
  },
  {
   "cell_type": "code",
   "execution_count": 23,
   "id": "d15ada7a",
   "metadata": {},
   "outputs": [
    {
     "name": "stdout",
     "output_type": "stream",
     "text": [
      "{'banana', 'apple', 'cherry'}\n"
     ]
    }
   ],
   "source": [
    "fruits = {\"apple\", \"banana\", \"cherry\"}\n",
    "print(fruits)  "
   ]
  },
  {
   "cell_type": "code",
   "execution_count": 24,
   "id": "5d03292b",
   "metadata": {},
   "outputs": [
    {
     "data": {
      "text/plain": [
       "{'apple', 'banana', 'cherry', 'orange'}"
      ]
     },
     "execution_count": 24,
     "metadata": {},
     "output_type": "execute_result"
    }
   ],
   "source": [
    "# Adding elements to a set\n",
    "fruits.add(\"orange\")\n",
    "fruits"
   ]
  },
  {
   "cell_type": "code",
   "execution_count": 25,
   "id": "46980601",
   "metadata": {},
   "outputs": [
    {
     "data": {
      "text/plain": [
       "{'apple', 'cherry', 'orange'}"
      ]
     },
     "execution_count": 25,
     "metadata": {},
     "output_type": "execute_result"
    }
   ],
   "source": [
    "# Removing elements from a set\n",
    "fruits.remove(\"banana\")\n",
    "fruits"
   ]
  },
  {
   "cell_type": "code",
   "execution_count": 26,
   "id": "5cc1e9df",
   "metadata": {},
   "outputs": [
    {
     "name": "stdout",
     "output_type": "stream",
     "text": [
      "True\n"
     ]
    }
   ],
   "source": [
    "# Checking if apple is in fruits list or not \n",
    "print(\"apple\" in fruits) "
   ]
  },
  {
   "cell_type": "code",
   "execution_count": 27,
   "id": "df6c4c9c",
   "metadata": {},
   "outputs": [
    {
     "name": "stdout",
     "output_type": "stream",
     "text": [
      "False\n"
     ]
    }
   ],
   "source": [
    "print(\"apple\" not in fruits)"
   ]
  },
  {
   "cell_type": "code",
   "execution_count": 28,
   "id": "d1dd4453",
   "metadata": {},
   "outputs": [
    {
     "name": "stdout",
     "output_type": "stream",
     "text": [
      "{'apple', 'cherry', 'cabbage', 'Beans', 'orange'}\n",
      "set()\n"
     ]
    }
   ],
   "source": [
    "veggies = {\"cabbage\",\"Beans\"}\n",
    "print(fruits.union(veggies))\n",
    "print(fruits.intersection(veggies))\n",
    "#We got an empty set because there are no same item"
   ]
  },
  {
   "cell_type": "code",
   "execution_count": 29,
   "id": "d79834e1",
   "metadata": {},
   "outputs": [
    {
     "name": "stdout",
     "output_type": "stream",
     "text": [
      "{'cherry'}\n"
     ]
    }
   ],
   "source": [
    "veg = {\"cherry\"}\n",
    "print(fruits.intersection(veg))\n",
    "# Here we have same item in fruits and veg "
   ]
  },
  {
   "cell_type": "code",
   "execution_count": null,
   "id": "26bb8a0c",
   "metadata": {},
   "outputs": [],
   "source": []
  }
 ],
 "metadata": {
  "kernelspec": {
   "display_name": "Python 3 (ipykernel)",
   "language": "python",
   "name": "python3"
  },
  "language_info": {
   "codemirror_mode": {
    "name": "ipython",
    "version": 3
   },
   "file_extension": ".py",
   "mimetype": "text/x-python",
   "name": "python",
   "nbconvert_exporter": "python",
   "pygments_lexer": "ipython3",
   "version": "3.11.4"
  }
 },
 "nbformat": 4,
 "nbformat_minor": 5
}
