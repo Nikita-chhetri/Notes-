{
 "cells": [
  {
   "cell_type": "markdown",
   "id": "cada2221",
   "metadata": {},
   "source": [
    "<h1 align=\\\"center\\\"><font color='green'><font size=\\\"6\\\">Python - Basics </font> </h1>"
   ]
  },
  {
   "cell_type": "markdown",
   "id": "0877d69d",
   "metadata": {},
   "source": [
    "<div style=\"background-color: #90EE90;\">.</div>  </div>"
   ]
  },
  {
   "cell_type": "markdown",
   "id": "962e43b2",
   "metadata": {},
   "source": [
    "### Type conversion \n",
    " - Type conversions (also known as type casting) in Python involve converting one data type to another. \n",
    " - This is often necessary when you need to perform operations that require specific data types. \n",
    " - Python provides several built-in functions to facilitate type conversion."
   ]
  },
  {
   "cell_type": "code",
   "execution_count": 1,
   "id": "5ab626e3",
   "metadata": {},
   "outputs": [
    {
     "name": "stdout",
     "output_type": "stream",
     "text": [
      "123\n",
      "<class 'str'>\n"
     ]
    }
   ],
   "source": [
    "string_number = \"123\"\n",
    "print(string_number)\n",
    "print(type(string_number))"
   ]
  },
  {
   "cell_type": "code",
   "execution_count": 2,
   "id": "f427ae53",
   "metadata": {},
   "outputs": [
    {
     "name": "stdout",
     "output_type": "stream",
     "text": [
      "123\n",
      "<class 'int'>\n"
     ]
    }
   ],
   "source": [
    "#Convert string to integer\n",
    "integer_number = int(string_number) \n",
    "print(integer_number)  \n",
    "print(type(integer_number))  "
   ]
  },
  {
   "cell_type": "markdown",
   "id": "79061bc2",
   "metadata": {},
   "source": [
    "##### In the same manner we can do other type conversions using following:\n",
    " - To Integer: Use int()\n",
    " - To Float: Use float()\n",
    " - To String: Use str()\n",
    " - To List: Use list()\n",
    " - To Tuple: Use tuple()\n",
    " - To Set: Use set()"
   ]
  },
  {
   "cell_type": "code",
   "execution_count": 3,
   "id": "f1a011bf",
   "metadata": {},
   "outputs": [
    {
     "name": "stdout",
     "output_type": "stream",
     "text": [
      "['h', 'e', 'l', 'l', 'o']\n",
      "<class 'list'>\n"
     ]
    }
   ],
   "source": [
    "#converting string to list\n",
    "string = \"hello\"\n",
    "list_of_chars = list(string)\n",
    "print(list_of_chars)  \n",
    "print(type(list_of_chars)) "
   ]
  },
  {
   "cell_type": "markdown",
   "id": "937f45b3",
   "metadata": {},
   "source": [
    "### Conditional Statements"
   ]
  },
  {
   "cell_type": "markdown",
   "id": "9ad61e59",
   "metadata": {},
   "source": [
    "  - A conditional statement allows a program to execute a block of code based on whether a specified condition is true or fal\n",
    " - The key conditional statements in Python are if, elif, and else."
   ]
  },
  {
   "cell_type": "code",
   "execution_count": 4,
   "id": "17a98400",
   "metadata": {},
   "outputs": [
    {
     "name": "stdout",
     "output_type": "stream",
     "text": [
      " The number 10 is a positive number\n"
     ]
    }
   ],
   "source": [
    "# Check if a number is positive\n",
    "number = 10\n",
    "# If statement checks the condition\n",
    "if number > 0:\n",
    "    # If the condition is True, this block will run\n",
    "    print(f\" The number {number} is a positive number\")"
   ]
  },
  {
   "cell_type": "code",
   "execution_count": 5,
   "id": "760984c8",
   "metadata": {},
   "outputs": [
    {
     "name": "stdout",
     "output_type": "stream",
     "text": [
      "The number -5 is a negative number\n"
     ]
    }
   ],
   "source": [
    "# Check if a number is positive, negative, or zero\n",
    "number = -5\n",
    "if number > 0:\n",
    "    print(f\"The number {number} is a positive number\")\n",
    "elif number == 0:\n",
    "    print(f\"The number {number} is zero\")\n",
    "else:\n",
    "    print(f\"The number {number} is a negative number\")\n",
    "    \n",
    "#if checks the first condition.\n",
    "#elif (else if) checks further conditions if the previous conditions are false.\n",
    "#else runs if none of the previous conditions are true."
   ]
  },
  {
   "cell_type": "code",
   "execution_count": 6,
   "id": "762e3cd9",
   "metadata": {},
   "outputs": [
    {
     "name": "stdout",
     "output_type": "stream",
     "text": [
      "The number 15 is between 10 and 20\n"
     ]
    }
   ],
   "source": [
    "# Check if a number is within a range\n",
    "number = 15\n",
    "# Logical operators: and, or, not\n",
    "if number >= 10 and number <= 20:\n",
    "    print(f\"The number {number} is between 10 and 20\")"
   ]
  },
  {
   "cell_type": "code",
   "execution_count": 7,
   "id": "108a19e3",
   "metadata": {},
   "outputs": [
    {
     "name": "stdout",
     "output_type": "stream",
     "text": [
      "You are allowed to enter.\n"
     ]
    }
   ],
   "source": [
    "# Nested conditionals allow us to put an if/else statement inside another one\n",
    "age = 18\n",
    "has_id = True\n",
    "\n",
    "if age >= 18:\n",
    "    if has_id:\n",
    "        print(\"You are allowed to enter.\")\n",
    "    else:\n",
    "        print(\"You need an ID to enter.\")\n",
    "else:\n",
    "    print(\"You are not allowed to enter.\")"
   ]
  },
  {
   "cell_type": "markdown",
   "id": "1f9d6c12",
   "metadata": {},
   "source": [
    "### Loops\n",
    "\n",
    " - Loops are a fundamental concept in programming that allow you to execute a block of code repeatedly. \n",
    " - In Python, there are two primary types of loops: 'for' loops and 'while' loops."
   ]
  },
  {
   "cell_type": "markdown",
   "id": "d446ac66",
   "metadata": {},
   "source": [
    " ##### For loop\n",
    " - The 'for' loop is used to iterate over a sequence (such as a list, tuple, string, or range) and execute a block of code for each item in the sequence."
   ]
  },
  {
   "cell_type": "code",
   "execution_count": 8,
   "id": "22ddc486",
   "metadata": {},
   "outputs": [
    {
     "name": "stdout",
     "output_type": "stream",
     "text": [
      "H\n",
      "e\n",
      "l\n",
      "l\n",
      "o\n"
     ]
    }
   ],
   "source": [
    "message = \"Hello\"\n",
    "# Using a for loop to iterate over the string\n",
    "for words in message:\n",
    "    print(words)"
   ]
  },
  {
   "cell_type": "code",
   "execution_count": 9,
   "id": "98329fcb",
   "metadata": {},
   "outputs": [
    {
     "name": "stdout",
     "output_type": "stream",
     "text": [
      "0\n",
      "1\n",
      "2\n",
      "3\n",
      "4\n"
     ]
    }
   ],
   "source": [
    "# Using range() to iterate from 0 to 4\n",
    "for i in range(5):\n",
    "    print(i)\n",
    "#We got numbers from 0-4\n",
    "#because the range(5) generates no. from 0-4 which is equal to 5"
   ]
  },
  {
   "cell_type": "markdown",
   "id": "f77a92f0",
   "metadata": {},
   "source": [
    "##### While Loop\n",
    " - The while loop is used to repeatedly execute a block of code as long as a specified condition is true."
   ]
  },
  {
   "cell_type": "code",
   "execution_count": 10,
   "id": "dc509335",
   "metadata": {},
   "outputs": [
    {
     "name": "stdout",
     "output_type": "stream",
     "text": [
      "0\n",
      "1\n",
      "2\n",
      "3\n",
      "4\n"
     ]
    }
   ],
   "source": [
    "counter = 0\n",
    "# Using a while loop to count from 0 to 4\n",
    "while counter < 5:\n",
    "    print(counter)\n",
    "    counter += 1  # Increment counter\n",
    "\n",
    "#The while loop continues to execute as long as counter is less than 5.\n",
    "#Inside the loop, the print() function prints the value of counter, \n",
    "#and counter is incremented by 1."
   ]
  },
  {
   "cell_type": "markdown",
   "id": "b6f5506b",
   "metadata": {},
   "source": [
    "##### Break Statement\n",
    " - The break statement can be used to exit a loop prematurely, regardless of the loop's condition."
   ]
  },
  {
   "cell_type": "code",
   "execution_count": 11,
   "id": "9bd76408",
   "metadata": {},
   "outputs": [
    {
     "name": "stdout",
     "output_type": "stream",
     "text": [
      "0\n",
      "1\n",
      "2\n"
     ]
    }
   ],
   "source": [
    "counter = 0\n",
    "# Using a while loop with a break statement\n",
    "while True:\n",
    "    if counter == 3:\n",
    "        break  # Exit the loop if counter is 3\n",
    "    print(counter)\n",
    "    counter += 1\n",
    "\n",
    "#The while True loop will run indefinitely until the break statement is executed.\n",
    "#When counter equals 3, the break statement exits the loop."
   ]
  },
  {
   "cell_type": "markdown",
   "id": "196ab2ea",
   "metadata": {},
   "source": [
    "##### Continue Statement\n",
    " - The continue statement skips the rest of the code inside the loop for the current iteration and proceeds to the next iteration."
   ]
  },
  {
   "cell_type": "code",
   "execution_count": 12,
   "id": "1cec1fc1",
   "metadata": {},
   "outputs": [
    {
     "name": "stdout",
     "output_type": "stream",
     "text": [
      "1\n",
      "2\n",
      "4\n",
      "5\n"
     ]
    }
   ],
   "source": [
    "counter = 0\n",
    "# Using a while loop with a continue statement\n",
    "while counter < 5:\n",
    "    counter += 1\n",
    "    if counter == 3:\n",
    "        continue  # Skip printing when counter is 3\n",
    "    print(counter)\n",
    "\n",
    "#The continue statement skips the print() function when counter is 3, so 3 is not printed.\n"
   ]
  },
  {
   "cell_type": "markdown",
   "id": "5abed7e4",
   "metadata": {},
   "source": [
    "### Nested Loops \n",
    " - Nested loops are loops inside loops. When combined with conditionals, they allow us to create more complex logic."
   ]
  },
  {
   "cell_type": "code",
   "execution_count": 13,
   "id": "45b98e8e",
   "metadata": {},
   "outputs": [
    {
     "name": "stdout",
     "output_type": "stream",
     "text": [
      "The number 1 is odd\n",
      "The number 2 is even\n",
      "The number 3 is odd\n",
      "The number 4 is even\n",
      "The number 5 is odd\n"
     ]
    }
   ],
   "source": [
    "# Loop through a list of numbers and print if the number is even or odd\n",
    "numbers = [1, 2, 3, 4, 5]\n",
    "\n",
    "for number in numbers:\n",
    "    if number % 2 == 0:  # Check if the number is even\n",
    "        print(f\"The number {number} is even\")\n",
    "    else:  # If it's not even, it's odd\n",
    "        print(f\"The number {number} is odd\")"
   ]
  },
  {
   "cell_type": "code",
   "execution_count": 14,
   "id": "9daeaa6a",
   "metadata": {},
   "outputs": [
    {
     "name": "stdout",
     "output_type": "stream",
     "text": [
      "1 * 2 = 2\n",
      "1 * 4 = 4\n",
      "2 * 1 = 2\n",
      "2 * 2 = 4\n",
      "2 * 3 = 6\n",
      "2 * 4 = 8\n",
      "2 * 5 = 10\n",
      "3 * 2 = 6\n",
      "3 * 4 = 12\n",
      "4 * 1 = 4\n",
      "4 * 2 = 8\n",
      "4 * 3 = 12\n",
      "4 * 4 = 16\n",
      "4 * 5 = 20\n",
      "5 * 2 = 10\n",
      "5 * 4 = 20\n"
     ]
    }
   ],
   "source": [
    "# Generate a multiplication table but only print the results that are even\n",
    "for i in range(1, 6):  # Outer loop for rows\n",
    "    for j in range(1, 6):  # Inner loop for columns\n",
    "        result = i * j\n",
    "        if result % 2 == 0:  # Only print if result is even\n",
    "            print(f\"{i} * {j} = {result}\")\n"
   ]
  },
  {
   "cell_type": "code",
   "execution_count": 15,
   "id": "9976cf2b",
   "metadata": {},
   "outputs": [
    {
     "name": "stdout",
     "output_type": "stream",
     "text": [
      "1, 1\n",
      "1, 2\n",
      "2, 1\n",
      "2, 2\n",
      "3, 1\n",
      "3, 2\n",
      "4, 1\n",
      "4, 2\n",
      "5, 1\n",
      "5, 2\n"
     ]
    }
   ],
   "source": [
    "# Exit the inner loop early if a condition is met\n",
    "for i in range(1, 6):\n",
    "    for j in range(1, 6):\n",
    "        if j == 3:  # Break the inner loop when j is 3\n",
    "            break\n",
    "        print(f\"{i}, {j}\")\n"
   ]
  },
  {
   "cell_type": "markdown",
   "id": "194ced79",
   "metadata": {},
   "source": [
    "### Functions"
   ]
  },
  {
   "cell_type": "markdown",
   "id": "014394e9",
   "metadata": {},
   "source": [
    "- A function is a reusable block of code that performs a specific task.\n",
    "- Functions help in organizing code into manageable chunks, making it more readable and maintainable."
   ]
  },
  {
   "cell_type": "markdown",
   "id": "f2194a4a",
   "metadata": {},
   "source": [
    "-  You define a function using the `def` keyword, followed by the function name, parentheses (which may include parameters), and a colon. \n",
    "- The function body is indented.\n",
    "\n",
    "##### Need to pay attention in the indentation for execution."
   ]
  },
  {
   "cell_type": "code",
   "execution_count": 16,
   "id": "35ac6989",
   "metadata": {},
   "outputs": [
    {
     "name": "stdout",
     "output_type": "stream",
     "text": [
      "8\n"
     ]
    }
   ],
   "source": [
    "def add(a, b):\n",
    "    return a + b\n",
    "result = add(3, 5)  \n",
    "print(result)\n",
    "# Here,3 and 5 are Arguments "
   ]
  },
  {
   "cell_type": "code",
   "execution_count": 17,
   "id": "b07b4af6",
   "metadata": {},
   "outputs": [
    {
     "name": "stdout",
     "output_type": "stream",
     "text": [
      "16\n"
     ]
    }
   ],
   "source": [
    "def square(number):\n",
    "    return number * number\n",
    "print(square(4))  "
   ]
  },
  {
   "cell_type": "code",
   "execution_count": 18,
   "id": "2d56a806",
   "metadata": {},
   "outputs": [
    {
     "name": "stdout",
     "output_type": "stream",
     "text": [
      "Hello, Guest!\n",
      "Hello, Bob!\n"
     ]
    }
   ],
   "source": [
    "def greet(name=\"Guest\"):\n",
    "    print(f\"Hello, {name}!\")\n",
    "greet()       \n",
    "greet(\"Bob\")   "
   ]
  },
  {
   "cell_type": "code",
   "execution_count": 19,
   "id": "28e8e5db",
   "metadata": {},
   "outputs": [
    {
     "name": "stdout",
     "output_type": "stream",
     "text": [
      "Alice is 30 years old.\n"
     ]
    }
   ],
   "source": [
    "def describe_person(name, age):\n",
    "    print(f\"{name} is {age} years old.\")\n",
    "describe_person(age=30, name=\"Alice\")"
   ]
  },
  {
   "cell_type": "code",
   "execution_count": 20,
   "id": "2e28b29b",
   "metadata": {},
   "outputs": [
    {
     "name": "stdout",
     "output_type": "stream",
     "text": [
      "Alice\n",
      "Bob\n",
      "Charlie\n"
     ]
    }
   ],
   "source": [
    "\"\"\"Prints all names provided as arguments.\"\"\"\n",
    "def print_names(*names):\n",
    "    for name in names:\n",
    "        print(name)\n",
    "print_names(\"Alice\", \"Bob\", \"Charlie\")"
   ]
  },
  {
   "cell_type": "code",
   "execution_count": 21,
   "id": "9ab22bbb",
   "metadata": {},
   "outputs": [
    {
     "name": "stdout",
     "output_type": "stream",
     "text": [
      "name: Alice\n",
      "age: 30\n",
      "city: New York\n"
     ]
    }
   ],
   "source": [
    "\"\"\"Prints key-value pairs of information.\"\"\"\n",
    "def print_info(**info):\n",
    "    for key, value in info.items():\n",
    "        print(f\"{key}: {value}\")\n",
    "print_info(name=\"Alice\", age=30, city=\"New York\")"
   ]
  },
  {
   "cell_type": "code",
   "execution_count": 22,
   "id": "60f23b97",
   "metadata": {},
   "outputs": [
    {
     "name": "stdout",
     "output_type": "stream",
     "text": [
      "I'm local to this function\n"
     ]
    }
   ],
   "source": [
    "def local_variable():\n",
    "    local_var = \"I'm local to this function\"\n",
    "    print(local_var)\n",
    "local_variable()"
   ]
  },
  {
   "cell_type": "code",
   "execution_count": 23,
   "id": "11f8ccf0",
   "metadata": {},
   "outputs": [
    {
     "ename": "NameError",
     "evalue": "name 'local_var' is not defined",
     "output_type": "error",
     "traceback": [
      "\u001b[1;31m---------------------------------------------------------------------------\u001b[0m",
      "\u001b[1;31mNameError\u001b[0m                                 Traceback (most recent call last)",
      "Cell \u001b[1;32mIn[23], line 1\u001b[0m\n\u001b[1;32m----> 1\u001b[0m \u001b[38;5;28mprint\u001b[39m(local_var)\n",
      "\u001b[1;31mNameError\u001b[0m: name 'local_var' is not defined"
     ]
    }
   ],
   "source": [
    " print(local_var)  \n",
    "#The variable local_var is defined within the function local_variable()\n",
    "#and is therefore only accessible within that function.\n",
    "#that is why we are getting an error"
   ]
  },
  {
   "cell_type": "code",
   "execution_count": 24,
   "id": "5a066491",
   "metadata": {},
   "outputs": [
    {
     "name": "stdout",
     "output_type": "stream",
     "text": [
      "apple\n",
      "banana\n",
      "cherry\n"
     ]
    }
   ],
   "source": [
    "fruits = [\"apple\", \"banana\", \"cherry\"]\n",
    "# Using a for loop to iterate over the list\n",
    "for fruit in fruits:\n",
    "    print(fruit)"
   ]
  },
  {
   "cell_type": "markdown",
   "id": "03079054",
   "metadata": {},
   "source": [
    "#### Basic File Operations\n",
    " - Python provides functionality for reading from and writing to files."
   ]
  },
  {
   "cell_type": "code",
   "execution_count": null,
   "id": "9a192220",
   "metadata": {},
   "outputs": [],
   "source": [
    "#Reading a File\n",
    "with open('example.txt', 'r') as file:\n",
    "    content = file.read()\n",
    "    print(content)    \n",
    "#The code reads the contents of the file \"example.txt\"\n",
    "# stores them in content variable \n",
    "#and prints them to the console."
   ]
  },
  {
   "cell_type": "code",
   "execution_count": null,
   "id": "97552dda",
   "metadata": {},
   "outputs": [],
   "source": [
    "#Writing to a File\n",
    "with open('example.txt', 'w') as file:\n",
    "    file.write(\"Hello, World!\")\n",
    "#The code opens a file named \"example.txt\" in write mode ('w'). \n",
    "#If the file doesn't exist, it will be created.\n",
    "#The code writes the text \"Hello, World!\" to the opened file.\n",
    "#If the file already contains content, it will be overwritten."
   ]
  },
  {
   "cell_type": "code",
   "execution_count": null,
   "id": "97a91887",
   "metadata": {},
   "outputs": [],
   "source": []
  }
 ],
 "metadata": {
  "kernelspec": {
   "display_name": "Python 3 (ipykernel)",
   "language": "python",
   "name": "python3"
  },
  "language_info": {
   "codemirror_mode": {
    "name": "ipython",
    "version": 3
   },
   "file_extension": ".py",
   "mimetype": "text/x-python",
   "name": "python",
   "nbconvert_exporter": "python",
   "pygments_lexer": "ipython3",
   "version": "3.11.4"
  }
 },
 "nbformat": 4,
 "nbformat_minor": 5
}
