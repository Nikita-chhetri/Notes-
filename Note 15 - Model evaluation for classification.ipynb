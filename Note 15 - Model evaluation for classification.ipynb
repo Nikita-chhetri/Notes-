{
 "cells": [
  {
   "cell_type": "markdown",
   "id": "b8683fa4",
   "metadata": {},
   "source": [
    "<h1 align=\\\"center\\\"><font color='green'><font size=\\\"10\\\">Model Evaluation</font> </h1>"
   ]
  },
  {
   "cell_type": "markdown",
   "id": "0b6dd051",
   "metadata": {},
   "source": [
    "<div style=\"background-color: #90EE90;\">.</div>  </div>"
   ]
  },
  {
   "cell_type": "markdown",
   "id": "0ea7ab25",
   "metadata": {},
   "source": [
    "Model evaluation is crucial in machine learning to determine how well a model performs on unseen data. Proper evaluation helps identify issues like overfitting and underfitting and allows for the comparison of different models."
   ]
  },
  {
   "cell_type": "markdown",
   "id": "6a18c225",
   "metadata": {},
   "source": [
    "\n",
    " <div class = \"alert alert-block alert-success\">\n",
    "     <font size = \"5\">\n",
    " Evaluation Metrics for Classification\n"
   ]
  },
  {
   "cell_type": "markdown",
   "id": "2cb54b09",
   "metadata": {},
   "source": [
    "   - Classification is a supervised learning task where the objective is to predict categorical labels for given input data. In classification, the model learns from labeled training data and assigns new instances to one of the predefined categories or classes.\n",
    "   - Classification: Predicts discrete classes (categorical outcomes).\n",
    "\n",
    " - Example: Predicting whether an email is \"spam\" or \"not spam,\" or classifying images of animals into categories like \"cat,\" \"dog,\" or \"bird.\""
   ]
  },
  {
   "cell_type": "markdown",
   "id": "64ad550e",
   "metadata": {},
   "source": [
    "## Confusion Matrix \n",
    "  - A confusion matrix is a table used to evaluate the performance of a classification model by comparing predicted classifications with actual outcomes. It summarizes the counts of true positive, true negative, false positive, and false negative predictions.\n",
    "  \n",
    "In fraud detection, a confusion matrix helps identify correctly and incorrectly classified transactions, guiding improvements to reduce false negatives and false positives.\n",
    " "
   ]
  },
  {
   "cell_type": "code",
   "execution_count": 1,
   "id": "a5e16ea0",
   "metadata": {},
   "outputs": [],
   "source": [
    "#importing necessary libraries\n",
    "import numpy as np\n",
    "import pandas as pd\n",
    "from sklearn.datasets import load_iris\n",
    "from sklearn.model_selection import train_test_split\n",
    "from sklearn.ensemble import RandomForestClassifier\n",
    "import matplotlib.pyplot as plt"
   ]
  },
  {
   "cell_type": "code",
   "execution_count": 2,
   "id": "5dbd50a3",
   "metadata": {},
   "outputs": [],
   "source": [
    "#Loading the Iris dataset\n",
    "iris = load_iris()\n",
    "# Assigning columns to Features(X) and target(y) \n",
    "X = iris.data\n",
    "y = iris.target"
   ]
  },
  {
   "cell_type": "code",
   "execution_count": 3,
   "id": "02f7ccbd",
   "metadata": {},
   "outputs": [],
   "source": [
    "#For simplicity, we'll convert this to a binary classification problem\n",
    "y_binary = (y == 0).astype(int)  # Classifying if the flower is setosa (1) or not (0)\n"
   ]
  },
  {
   "cell_type": "code",
   "execution_count": 4,
   "id": "c6f49077",
   "metadata": {},
   "outputs": [],
   "source": [
    "#Performing an 70/30 split to create training and test datasets.\n",
    "X_train, X_test, y_train, y_test = train_test_split(X, y_binary, test_size=0.3, random_state=42)\n"
   ]
  },
  {
   "cell_type": "code",
   "execution_count": 5,
   "id": "20d255c1",
   "metadata": {},
   "outputs": [
    {
     "data": {
      "text/html": [
       "<style>#sk-container-id-1 {color: black;}#sk-container-id-1 pre{padding: 0;}#sk-container-id-1 div.sk-toggleable {background-color: white;}#sk-container-id-1 label.sk-toggleable__label {cursor: pointer;display: block;width: 100%;margin-bottom: 0;padding: 0.3em;box-sizing: border-box;text-align: center;}#sk-container-id-1 label.sk-toggleable__label-arrow:before {content: \"▸\";float: left;margin-right: 0.25em;color: #696969;}#sk-container-id-1 label.sk-toggleable__label-arrow:hover:before {color: black;}#sk-container-id-1 div.sk-estimator:hover label.sk-toggleable__label-arrow:before {color: black;}#sk-container-id-1 div.sk-toggleable__content {max-height: 0;max-width: 0;overflow: hidden;text-align: left;background-color: #f0f8ff;}#sk-container-id-1 div.sk-toggleable__content pre {margin: 0.2em;color: black;border-radius: 0.25em;background-color: #f0f8ff;}#sk-container-id-1 input.sk-toggleable__control:checked~div.sk-toggleable__content {max-height: 200px;max-width: 100%;overflow: auto;}#sk-container-id-1 input.sk-toggleable__control:checked~label.sk-toggleable__label-arrow:before {content: \"▾\";}#sk-container-id-1 div.sk-estimator input.sk-toggleable__control:checked~label.sk-toggleable__label {background-color: #d4ebff;}#sk-container-id-1 div.sk-label input.sk-toggleable__control:checked~label.sk-toggleable__label {background-color: #d4ebff;}#sk-container-id-1 input.sk-hidden--visually {border: 0;clip: rect(1px 1px 1px 1px);clip: rect(1px, 1px, 1px, 1px);height: 1px;margin: -1px;overflow: hidden;padding: 0;position: absolute;width: 1px;}#sk-container-id-1 div.sk-estimator {font-family: monospace;background-color: #f0f8ff;border: 1px dotted black;border-radius: 0.25em;box-sizing: border-box;margin-bottom: 0.5em;}#sk-container-id-1 div.sk-estimator:hover {background-color: #d4ebff;}#sk-container-id-1 div.sk-parallel-item::after {content: \"\";width: 100%;border-bottom: 1px solid gray;flex-grow: 1;}#sk-container-id-1 div.sk-label:hover label.sk-toggleable__label {background-color: #d4ebff;}#sk-container-id-1 div.sk-serial::before {content: \"\";position: absolute;border-left: 1px solid gray;box-sizing: border-box;top: 0;bottom: 0;left: 50%;z-index: 0;}#sk-container-id-1 div.sk-serial {display: flex;flex-direction: column;align-items: center;background-color: white;padding-right: 0.2em;padding-left: 0.2em;position: relative;}#sk-container-id-1 div.sk-item {position: relative;z-index: 1;}#sk-container-id-1 div.sk-parallel {display: flex;align-items: stretch;justify-content: center;background-color: white;position: relative;}#sk-container-id-1 div.sk-item::before, #sk-container-id-1 div.sk-parallel-item::before {content: \"\";position: absolute;border-left: 1px solid gray;box-sizing: border-box;top: 0;bottom: 0;left: 50%;z-index: -1;}#sk-container-id-1 div.sk-parallel-item {display: flex;flex-direction: column;z-index: 1;position: relative;background-color: white;}#sk-container-id-1 div.sk-parallel-item:first-child::after {align-self: flex-end;width: 50%;}#sk-container-id-1 div.sk-parallel-item:last-child::after {align-self: flex-start;width: 50%;}#sk-container-id-1 div.sk-parallel-item:only-child::after {width: 0;}#sk-container-id-1 div.sk-dashed-wrapped {border: 1px dashed gray;margin: 0 0.4em 0.5em 0.4em;box-sizing: border-box;padding-bottom: 0.4em;background-color: white;}#sk-container-id-1 div.sk-label label {font-family: monospace;font-weight: bold;display: inline-block;line-height: 1.2em;}#sk-container-id-1 div.sk-label-container {text-align: center;}#sk-container-id-1 div.sk-container {/* jupyter's `normalize.less` sets `[hidden] { display: none; }` but bootstrap.min.css set `[hidden] { display: none !important; }` so we also need the `!important` here to be able to override the default hidden behavior on the sphinx rendered scikit-learn.org. See: https://github.com/scikit-learn/scikit-learn/issues/21755 */display: inline-block !important;position: relative;}#sk-container-id-1 div.sk-text-repr-fallback {display: none;}</style><div id=\"sk-container-id-1\" class=\"sk-top-container\"><div class=\"sk-text-repr-fallback\"><pre>RandomForestClassifier(random_state=42)</pre><b>In a Jupyter environment, please rerun this cell to show the HTML representation or trust the notebook. <br />On GitHub, the HTML representation is unable to render, please try loading this page with nbviewer.org.</b></div><div class=\"sk-container\" hidden><div class=\"sk-item\"><div class=\"sk-estimator sk-toggleable\"><input class=\"sk-toggleable__control sk-hidden--visually\" id=\"sk-estimator-id-1\" type=\"checkbox\" checked><label for=\"sk-estimator-id-1\" class=\"sk-toggleable__label sk-toggleable__label-arrow\">RandomForestClassifier</label><div class=\"sk-toggleable__content\"><pre>RandomForestClassifier(random_state=42)</pre></div></div></div></div></div>"
      ],
      "text/plain": [
       "RandomForestClassifier(random_state=42)"
      ]
     },
     "execution_count": 5,
     "metadata": {},
     "output_type": "execute_result"
    }
   ],
   "source": [
    "#Training the model \n",
    "model = RandomForestClassifier(random_state=42)\n",
    "model.fit(X_train, y_train)"
   ]
  },
  {
   "cell_type": "code",
   "execution_count": 6,
   "id": "b9428c8d",
   "metadata": {},
   "outputs": [],
   "source": [
    "#Predicting on the test model\n",
    "y_pred = model.predict(X_test)"
   ]
  },
  {
   "cell_type": "code",
   "execution_count": 7,
   "id": "c9860bbd",
   "metadata": {},
   "outputs": [],
   "source": [
    "#importing libraries where necessary for better understanding\n",
    "from sklearn.metrics import confusion_matrix"
   ]
  },
  {
   "cell_type": "code",
   "execution_count": 8,
   "id": "d9b9012e",
   "metadata": {},
   "outputs": [
    {
     "name": "stdout",
     "output_type": "stream",
     "text": [
      "Confusion Matrix:\n",
      "[[26  0]\n",
      " [ 0 19]]\n"
     ]
    }
   ],
   "source": [
    "#Calculating confusion matrix\n",
    "cm = confusion_matrix(y_test, y_pred)\n",
    "print(\"Confusion Matrix:\")\n",
    "print(cm)"
   ]
  },
  {
   "cell_type": "code",
   "execution_count": 9,
   "id": "e336ad00",
   "metadata": {},
   "outputs": [
    {
     "data": {
      "image/png": "[encoded data removed]",
      "text/plain": [
       "<Figure size 640x480 with 2 Axes>"
      ]
     },
     "metadata": {},
     "output_type": "display_data"
    }
   ],
   "source": [
    "from sklearn.metrics import ConfusionMatrixDisplay\n",
    "#Display the confusion matrix\n",
    "disp = ConfusionMatrixDisplay(confusion_matrix=cm)\n",
    "disp.plot(cmap=plt.cm.Blues)\n",
    "plt.title(\"Confusion Matrix\")\n",
    "plt.show()"
   ]
  },
  {
   "cell_type": "markdown",
   "id": "04e33fd8",
   "metadata": {},
   "source": [
    "## Accuracy\n",
    " -  Proportion of correctly predicted instances out of the total.\n",
    " \n",
    "General performance metric when the classes are balanced. Good for overall success rate in tasks like image classification.\n",
    "\n",
    "\n",
    "##### Formula:\n"
   ]
  },
  {
   "cell_type": "markdown",
   "id": "beaf467a",
   "metadata": {},
   "source": [
    "$$\n",
    "\\text{Accuracy} = \\frac{\\text{TP} + \\text{TN}}{\\text{TP} + \\text{TN} + \\text{FP} + \\text{FN}}\n",
    "$$\n"
   ]
  },
  {
   "cell_type": "markdown",
   "id": "914a94fc",
   "metadata": {},
   "source": [
    "Example:\n",
    " - True Positives (TP): A marketing email gets correctly flagged as spam.\n",
    " - True Negatives (TN): A non-spam email is correctly identified as non-spam.\n",
    " - False Positives (FP): A non-spam email is incorrectly flagged as spam.\n",
    " - False Negatives (FN): A spam email is incorrectly identified as non-spam.\n",
    " \n",
    "If there are 90 true results (TP + TN) out of 100 total emails, accuracy would be "
   ]
  },
  {
   "cell_type": "markdown",
   "id": "66d3df2f",
   "metadata": {},
   "source": [
    "$$\n",
    "\\text{Accuracy} = \\frac{TP + TN}{TP + TN + FP + FN} = \\frac{70 + 20}{70 + 20 + 5 + 5} = \\frac{90}{100} = 0.90\n",
    "$$\n"
   ]
  },
  {
   "cell_type": "markdown",
   "id": "6b941c8e",
   "metadata": {},
   "source": [
    "This means 90% of the emails were correctly classified. "
   ]
  },
  {
   "cell_type": "code",
   "execution_count": 10,
   "id": "93267529",
   "metadata": {},
   "outputs": [
    {
     "name": "stdout",
     "output_type": "stream",
     "text": [
      "Accuracy: 1.00\n"
     ]
    }
   ],
   "source": [
    "from sklearn.metrics import accuracy_score \n",
    "#calculating accuracy score\n",
    "accuracy = accuracy_score(y_test, y_pred)\n",
    "print(f\"Accuracy: {accuracy:.2f}\")"
   ]
  },
  {
   "cell_type": "markdown",
   "id": "5b8f8e74",
   "metadata": {},
   "source": [
    "## Precision\n",
    " -  Measures how many of the positively predicted instances are actually positive.\n",
    "\n",
    "Important in scenarios where the cost of false positives is high, such as spam detection (identifying spam emails) or medical diagnoses (confirming a disease).\n",
    "##### Formula:"
   ]
  },
  {
   "cell_type": "markdown",
   "id": "518b1476",
   "metadata": {},
   "source": [
    "$$\n",
    "\\text{Precision} = \\frac{\\text{TP}}{\\text{TP} + \\text{FP}}\n",
    "$$\n"
   ]
  },
  {
   "cell_type": "markdown",
   "id": "d3e49ce2",
   "metadata": {},
   "source": [
    "Example: If 30 emails are flagged as spam, and 25 of them are actually spam (TP), then:\n",
    "\n"
   ]
  },
  {
   "cell_type": "markdown",
   "id": "e70be6ee",
   "metadata": {},
   "source": [
    "$$\n",
    "\\text{Precision} = \\frac{TP}{TP + FP} = \\frac{25}{25 + 5} = \\frac{25}{30} \\approx 0.83\n",
    "$$\n"
   ]
  },
  {
   "cell_type": "markdown",
   "id": "44115604",
   "metadata": {},
   "source": [
    "This means 83% of flagged emails are correctly identified as spam."
   ]
  },
  {
   "cell_type": "code",
   "execution_count": 11,
   "id": "01c10893",
   "metadata": {},
   "outputs": [
    {
     "name": "stdout",
     "output_type": "stream",
     "text": [
      "Precision: 1.00\n"
     ]
    }
   ],
   "source": [
    "from sklearn.metrics import precision_score\n",
    "#calculating precision score\n",
    "precision = precision_score(y_test, y_pred)\n",
    "print(f\"Precision: {precision:.2f}\")"
   ]
  },
  {
   "cell_type": "markdown",
   "id": "943d35f9",
   "metadata": {},
   "source": [
    "## Recall (Sensitivity)\n",
    " -  Measures how many actual positive instances were captured by the model.\n",
    " \n",
    " Critical when false negatives are costly. For example, in cancer detection, you want to catch as many true cases as possible, even at the cost of some false positives.\n",
    "##### Formula:"
   ]
  },
  {
   "cell_type": "markdown",
   "id": "95fe5364",
   "metadata": {},
   "source": [
    "$$\n",
    "\\text{Recall} = \\frac{\\text{TP}}{\\text{TP} + \\text{FN}}\n",
    "$$\n"
   ]
  },
  {
   "cell_type": "markdown",
   "id": "8ba090e9",
   "metadata": {},
   "source": [
    "Example: If there are 40 actual spam emails and 25 are correctly flagged (TP), then:"
   ]
  },
  {
   "cell_type": "markdown",
   "id": "19cafd9e",
   "metadata": {},
   "source": [
    "$$\n",
    "\\text{Recall} = \\frac{TP}{TP + FN} = \\frac{25}{25 + 15} = \\frac{25}{40} = 0.625\n",
    "$$\n"
   ]
  },
  {
   "cell_type": "markdown",
   "id": "2e992289",
   "metadata": {},
   "source": [
    "This means the model correctly identifies 62.5% of all spam emails."
   ]
  },
  {
   "cell_type": "code",
   "execution_count": 20,
   "id": "d6d85160",
   "metadata": {},
   "outputs": [
    {
     "name": "stdout",
     "output_type": "stream",
     "text": [
      "recall: 1.00\n"
     ]
    }
   ],
   "source": [
    "from sklearn.metrics import recall_score\n",
    "#calculating recall score\n",
    "recall = recall_score(y_test, y_pred)\n",
    "print(f\"recall: {recall:.2f}\")"
   ]
  },
  {
   "cell_type": "markdown",
   "id": "606a481f",
   "metadata": {},
   "source": [
    "## F1 Score\n",
    " -  Harmonic mean of precision and recall, useful for imbalanced classes.\n",
    " \n",
    "  Useful when you need a balance between precision and recall. Commonly used in information retrieval and classification tasks with imbalanced datasets.\n",
    "\n",
    "##### Formula:"
   ]
  },
  {
   "cell_type": "markdown",
   "id": "5023fbbf",
   "metadata": {},
   "source": [
    "$$\n",
    "\\text{F1 Score} = 2 \\times \\frac{\\text{Precision} \\times \\text{Recall}}{\\text{Precision} + \\text{Recall}}\n",
    "$$\n"
   ]
  },
  {
   "cell_type": "markdown",
   "id": "f3b05080",
   "metadata": {},
   "source": [
    "Example: Continuing from previous examples, if Precision is 0.83 and Recall is 0.625, then:"
   ]
  },
  {
   "cell_type": "markdown",
   "id": "a655f2f7",
   "metadata": {},
   "source": [
    "$$\n",
    "\\text{F1 Score} = 2 \\times \\frac{Precision \\times Recall}{Precision + Recall} = 2 \\times \\frac{0.83 \\times 0.625}{0.83 + 0.625} \\approx 0.714\n",
    "$$\n"
   ]
  },
  {
   "cell_type": "code",
   "execution_count": 21,
   "id": "46c85665",
   "metadata": {},
   "outputs": [
    {
     "name": "stdout",
     "output_type": "stream",
     "text": [
      " f1_score: 1.00\n"
     ]
    }
   ],
   "source": [
    "from sklearn.metrics import f1_score\n",
    "#calculating f1 score\n",
    "f1_score = f1_score(y_test, y_pred)\n",
    "print(f\" f1_score: { f1_score:.2f}\")"
   ]
  },
  {
   "cell_type": "markdown",
   "id": "156d3093",
   "metadata": {},
   "source": [
    "## ROC-AUC\n",
    " -  Area under the ROC curve, evaluating performance across thresholds.\n",
    " \n",
    " Helps in assessing the performance of a model across all classification thresholds. Useful for binary classifiers in risk assessment scenarios, like credit scoring.\n",
    " \n",
    "###### Example: \n",
    "A ROC curve plots the True Positive Rate (Recall) against the False Positive Rate (FPR). The area under this curve (AUC) ranges from 0 to 1, where 1 indicates perfect classification."
   ]
  },
  {
   "cell_type": "code",
   "execution_count": null,
   "id": "c6ea61fd",
   "metadata": {},
   "outputs": [],
   "source": [
    "from sklearn.metrics import roc_curve, auc\n",
    "\n",
    "#Calculate probabilities for ROC\n",
    "y_true =[0, 1, 0, 1, 0, 1, 0, 1]  # Actual labels\n",
    "y_probs = [0.1, 0.3, 0.2, 0.4, 0.6, 0.7, 0.8, 0.9]  # Predicted Probabilities "
   ]
  },
  {
   "cell_type": "code",
   "execution_count": null,
   "id": "2f28ca93",
   "metadata": {},
   "outputs": [],
   "source": [
    "#Calculating ROC curve\n",
    "fpr, tpr, thresholds = roc_curve(y_true, y_probs)\n",
    "roc_auc = auc(fpr, tpr)"
   ]
  },
  {
   "cell_type": "code",
   "execution_count": 12,
   "id": "1e6c2fef",
   "metadata": {},
   "outputs": [
    {
     "data": {
      "image/png": "[encoded data removed]",
      "text/plain": [
       "<Figure size 640x480 with 1 Axes>"
      ]
     },
     "metadata": {},
     "output_type": "display_data"
    }
   ],
   "source": [
    "#Plotting\n",
    "plt.plot(fpr, tpr, color='blue', label='ROC curve (area = %0.2f)' % roc_auc)\n",
    "plt.plot([0, 1], [0, 1], color='red', linestyle='--')\n",
    "plt.xlabel('False Positive Rate')\n",
    "plt.ylabel('True Positive Rate')\n",
    "plt.title('ROC Curve')\n",
    "plt.legend(loc='lower right')\n",
    "plt.show()\n"
   ]
  },
  {
   "cell_type": "markdown",
   "id": "ac4bb883",
   "metadata": {},
   "source": []
  }
 ],
 "metadata": {
  "kernelspec": {
   "display_name": "Python 3 (ipykernel)",
   "language": "python",
   "name": "python3"
  },
  "language_info": {
   "codemirror_mode": {
    "name": "ipython",
    "version": 3
   },
   "file_extension": ".py",
   "mimetype": "text/x-python",
   "name": "python",
   "nbconvert_exporter": "python",
   "pygments_lexer": "ipython3",
   "version": "3.11.4"
  }
 },
 "nbformat": 4,
 "nbformat_minor": 5
}
