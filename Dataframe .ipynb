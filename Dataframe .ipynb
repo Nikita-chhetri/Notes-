{
 "cells": [
  {
   "cell_type": "markdown",
   "id": "55c35fed",
   "metadata": {},
   "source": [
    "<h1 align=\\\"center\\\"><font color='green'><font size=\\\"6\\\">DataFrame</font> </h1>"
   ]
  },
  {
   "cell_type": "markdown",
   "id": "78580ad1",
   "metadata": {},
   "source": [
    "<div style=\"background-color: #90EE90;\">.</div>  </div>"
   ]
  },
  {
   "cell_type": "markdown",
   "id": "0c5ef0ac",
   "metadata": {},
   "source": [
    " - A DataFrame is a two-dimensional, labeled data structure in pandas, which is similar to a table in a relational database or an Excel spreadsheet. \n",
    "  - It consists of rows and columns, where each column can have a different data type (e.g., integers, floats, strings).\n"
   ]
  },
  {
   "cell_type": "markdown",
   "id": "13202824",
   "metadata": {},
   "source": [
    "#### Key Characteristics:\n",
    " - Labeled axes: Rows and columns are both labeled.\n",
    " - Heterogeneous data: Each column can contain different types of data (integers, floats, strings, etc.).\n",
    " - Indexing: DataFrames support both row and column indexing, which makes it easy to manipulate and retrieve data.\n",
    " - Mutability: You can modify data in a DataFrame by changing values, adding or removing rows/columns."
   ]
  },
  {
   "cell_type": "code",
   "execution_count": 1,
   "id": "853f6257",
   "metadata": {},
   "outputs": [],
   "source": [
    "import pandas as pd\n",
    "import numpy as np\n",
    "import matplotlib.pyplot as plt\n"
   ]
  },
  {
   "cell_type": "code",
   "execution_count": 2,
   "id": "cb5ca90c",
   "metadata": {},
   "outputs": [
    {
     "data": {
      "text/html": [
       "<div>\n",
       "<style scoped>\n",
       "    .dataframe tbody tr th:only-of-type {\n",
       "        vertical-align: middle;\n",
       "    }\n",
       "\n",
       "    .dataframe tbody tr th {\n",
       "        vertical-align: top;\n",
       "    }\n",
       "\n",
       "    .dataframe thead th {\n",
       "        text-align: right;\n",
       "    }\n",
       "</style>\n",
       "<table border=\"1\" class=\"dataframe\">\n",
       "  <thead>\n",
       "    <tr style=\"text-align: right;\">\n",
       "      <th></th>\n",
       "      <th>EmployeeID</th>\n",
       "      <th>Name</th>\n",
       "      <th>Age</th>\n",
       "      <th>Department</th>\n",
       "      <th>Salary</th>\n",
       "    </tr>\n",
       "  </thead>\n",
       "  <tbody>\n",
       "    <tr>\n",
       "      <th>0</th>\n",
       "      <td>1</td>\n",
       "      <td>Risa</td>\n",
       "      <td>48</td>\n",
       "      <td>HR</td>\n",
       "      <td>47466</td>\n",
       "    </tr>\n",
       "    <tr>\n",
       "      <th>1</th>\n",
       "      <td>2</td>\n",
       "      <td>Babita</td>\n",
       "      <td>28</td>\n",
       "      <td>Finance</td>\n",
       "      <td>48145</td>\n",
       "    </tr>\n",
       "    <tr>\n",
       "      <th>2</th>\n",
       "      <td>3</td>\n",
       "      <td>Chintu</td>\n",
       "      <td>38</td>\n",
       "      <td>IT</td>\n",
       "      <td>82156</td>\n",
       "    </tr>\n",
       "    <tr>\n",
       "      <th>3</th>\n",
       "      <td>4</td>\n",
       "      <td>NaN</td>\n",
       "      <td>33</td>\n",
       "      <td>Marketing</td>\n",
       "      <td>77070</td>\n",
       "    </tr>\n",
       "    <tr>\n",
       "      <th>4</th>\n",
       "      <td>5</td>\n",
       "      <td>Jhilmil</td>\n",
       "      <td>22</td>\n",
       "      <td>Sales</td>\n",
       "      <td>81493</td>\n",
       "    </tr>\n",
       "    <tr>\n",
       "      <th>5</th>\n",
       "      <td>6</td>\n",
       "      <td>Ram</td>\n",
       "      <td>22</td>\n",
       "      <td>IT</td>\n",
       "      <td>89250</td>\n",
       "    </tr>\n",
       "    <tr>\n",
       "      <th>6</th>\n",
       "      <td>7</td>\n",
       "      <td>Shyam</td>\n",
       "      <td>47</td>\n",
       "      <td>HR</td>\n",
       "      <td>83235</td>\n",
       "    </tr>\n",
       "    <tr>\n",
       "      <th>7</th>\n",
       "      <td>8</td>\n",
       "      <td>Laxman</td>\n",
       "      <td>25</td>\n",
       "      <td>NaN</td>\n",
       "      <td>66200</td>\n",
       "    </tr>\n",
       "    <tr>\n",
       "      <th>8</th>\n",
       "      <td>9</td>\n",
       "      <td>Nishi</td>\n",
       "      <td>43</td>\n",
       "      <td>Marketing</td>\n",
       "      <td>71381</td>\n",
       "    </tr>\n",
       "    <tr>\n",
       "      <th>9</th>\n",
       "      <td>10</td>\n",
       "      <td>Yash</td>\n",
       "      <td>45</td>\n",
       "      <td>Sales</td>\n",
       "      <td>48391</td>\n",
       "    </tr>\n",
       "  </tbody>\n",
       "</table>\n",
       "</div>"
      ],
      "text/plain": [
       "   EmployeeID     Name  Age Department  Salary\n",
       "0           1     Risa   48         HR   47466\n",
       "1           2   Babita   28    Finance   48145\n",
       "2           3   Chintu   38         IT   82156\n",
       "3           4      NaN   33  Marketing   77070\n",
       "4           5  Jhilmil   22      Sales   81493\n",
       "5           6      Ram   22         IT   89250\n",
       "6           7    Shyam   47         HR   83235\n",
       "7           8   Laxman   25        NaN   66200\n",
       "8           9    Nishi   43  Marketing   71381\n",
       "9          10     Yash   45      Sales   48391"
      ]
     },
     "execution_count": 2,
     "metadata": {},
     "output_type": "execute_result"
    }
   ],
   "source": [
    "# Creating a dataset\n",
    "data = {\n",
    "    'EmployeeID': np.arange(1, 11), # Generates sequence of numbers from 1 to 10\n",
    "    'Name': ['Risa', 'Babita', 'Chintu',np.nan, 'Jhilmil', 'Ram','Shyam','Laxman','Nishi','Yash'],\n",
    "    'Age': np.random.randint(22, 50, size=10), # Generates 10 random integers between 22 and 49\n",
    "    'Department': ['HR', 'Finance', 'IT', 'Marketing', 'Sales', 'IT', 'HR', np.nan, 'Marketing', 'Sales'],\n",
    "    'Salary': np.random.randint(40000, 90000, size=10) #Generates 10 random integers between 40000 and 89999\n",
    "}\n",
    "\n",
    "# Creating a DataFrame\n",
    "df = pd.DataFrame(data)\n",
    "df\n"
   ]
  },
  {
   "cell_type": "code",
   "execution_count": 3,
   "id": "947df554",
   "metadata": {},
   "outputs": [
    {
     "name": "stdout",
     "output_type": "stream",
     "text": [
      "<class 'pandas.core.frame.DataFrame'>\n",
      "RangeIndex: 10 entries, 0 to 9\n",
      "Data columns (total 5 columns):\n",
      " #   Column      Non-Null Count  Dtype \n",
      "---  ------      --------------  ----- \n",
      " 0   EmployeeID  10 non-null     int32 \n",
      " 1   Name        9 non-null      object\n",
      " 2   Age         10 non-null     int32 \n",
      " 3   Department  9 non-null      object\n",
      " 4   Salary      10 non-null     int32 \n",
      "dtypes: int32(3), object(2)\n",
      "memory usage: 412.0+ bytes\n"
     ]
    }
   ],
   "source": [
    "df.info()\n",
    "#gives information about the dataframe"
   ]
  },
  {
   "cell_type": "code",
   "execution_count": 4,
   "id": "bcfcc2ad",
   "metadata": {},
   "outputs": [
    {
     "data": {
      "text/html": [
       "<div>\n",
       "<style scoped>\n",
       "    .dataframe tbody tr th:only-of-type {\n",
       "        vertical-align: middle;\n",
       "    }\n",
       "\n",
       "    .dataframe tbody tr th {\n",
       "        vertical-align: top;\n",
       "    }\n",
       "\n",
       "    .dataframe thead th {\n",
       "        text-align: right;\n",
       "    }\n",
       "</style>\n",
       "<table border=\"1\" class=\"dataframe\">\n",
       "  <thead>\n",
       "    <tr style=\"text-align: right;\">\n",
       "      <th></th>\n",
       "      <th>EmployeeID</th>\n",
       "      <th>Age</th>\n",
       "      <th>Salary</th>\n",
       "    </tr>\n",
       "  </thead>\n",
       "  <tbody>\n",
       "    <tr>\n",
       "      <th>count</th>\n",
       "      <td>10.00000</td>\n",
       "      <td>10.000000</td>\n",
       "      <td>10.00000</td>\n",
       "    </tr>\n",
       "    <tr>\n",
       "      <th>mean</th>\n",
       "      <td>5.50000</td>\n",
       "      <td>35.100000</td>\n",
       "      <td>69478.70000</td>\n",
       "    </tr>\n",
       "    <tr>\n",
       "      <th>std</th>\n",
       "      <td>3.02765</td>\n",
       "      <td>10.418467</td>\n",
       "      <td>16129.92628</td>\n",
       "    </tr>\n",
       "    <tr>\n",
       "      <th>min</th>\n",
       "      <td>1.00000</td>\n",
       "      <td>22.000000</td>\n",
       "      <td>47466.00000</td>\n",
       "    </tr>\n",
       "    <tr>\n",
       "      <th>25%</th>\n",
       "      <td>3.25000</td>\n",
       "      <td>25.750000</td>\n",
       "      <td>52843.25000</td>\n",
       "    </tr>\n",
       "    <tr>\n",
       "      <th>50%</th>\n",
       "      <td>5.50000</td>\n",
       "      <td>35.500000</td>\n",
       "      <td>74225.50000</td>\n",
       "    </tr>\n",
       "    <tr>\n",
       "      <th>75%</th>\n",
       "      <td>7.75000</td>\n",
       "      <td>44.500000</td>\n",
       "      <td>81990.25000</td>\n",
       "    </tr>\n",
       "    <tr>\n",
       "      <th>max</th>\n",
       "      <td>10.00000</td>\n",
       "      <td>48.000000</td>\n",
       "      <td>89250.00000</td>\n",
       "    </tr>\n",
       "  </tbody>\n",
       "</table>\n",
       "</div>"
      ],
      "text/plain": [
       "       EmployeeID        Age       Salary\n",
       "count    10.00000  10.000000     10.00000\n",
       "mean      5.50000  35.100000  69478.70000\n",
       "std       3.02765  10.418467  16129.92628\n",
       "min       1.00000  22.000000  47466.00000\n",
       "25%       3.25000  25.750000  52843.25000\n",
       "50%       5.50000  35.500000  74225.50000\n",
       "75%       7.75000  44.500000  81990.25000\n",
       "max      10.00000  48.000000  89250.00000"
      ]
     },
     "execution_count": 4,
     "metadata": {},
     "output_type": "execute_result"
    }
   ],
   "source": [
    "df.describe()\n",
    "#df.describe provides statistics summary of the dataframe "
   ]
  },
  {
   "cell_type": "code",
   "execution_count": 5,
   "id": "612db378",
   "metadata": {},
   "outputs": [
    {
     "data": {
      "text/plain": [
       "Index(['EmployeeID', 'Name', 'Age', 'Department', 'Salary'], dtype='object')"
      ]
     },
     "execution_count": 5,
     "metadata": {},
     "output_type": "execute_result"
    }
   ],
   "source": [
    "df.columns\n",
    "#gives all theh column names"
   ]
  },
  {
   "cell_type": "code",
   "execution_count": 6,
   "id": "5bb6c48b",
   "metadata": {},
   "outputs": [
    {
     "data": {
      "text/plain": [
       "0       Risa\n",
       "1     Babita\n",
       "2     Chintu\n",
       "3        NaN\n",
       "4    Jhilmil\n",
       "5        Ram\n",
       "6      Shyam\n",
       "7     Laxman\n",
       "8      Nishi\n",
       "9       Yash\n",
       "Name: Name, dtype: object"
      ]
     },
     "execution_count": 6,
     "metadata": {},
     "output_type": "execute_result"
    }
   ],
   "source": [
    "df['Name']\n",
    "#accesses single colum"
   ]
  },
  {
   "cell_type": "code",
   "execution_count": 7,
   "id": "3bd97343",
   "metadata": {},
   "outputs": [
    {
     "data": {
      "text/plain": [
       "EmployeeID         3\n",
       "Name          Chintu\n",
       "Age               38\n",
       "Department        IT\n",
       "Salary         82156\n",
       "Name: 2, dtype: object"
      ]
     },
     "execution_count": 7,
     "metadata": {},
     "output_type": "execute_result"
    }
   ],
   "source": [
    "#Accessing row at index 2\n",
    "df.iloc[2]"
   ]
  },
  {
   "cell_type": "code",
   "execution_count": 8,
   "id": "39f38ea7",
   "metadata": {},
   "outputs": [
    {
     "data": {
      "text/html": [
       "<div>\n",
       "<style scoped>\n",
       "    .dataframe tbody tr th:only-of-type {\n",
       "        vertical-align: middle;\n",
       "    }\n",
       "\n",
       "    .dataframe tbody tr th {\n",
       "        vertical-align: top;\n",
       "    }\n",
       "\n",
       "    .dataframe thead th {\n",
       "        text-align: right;\n",
       "    }\n",
       "</style>\n",
       "<table border=\"1\" class=\"dataframe\">\n",
       "  <thead>\n",
       "    <tr style=\"text-align: right;\">\n",
       "      <th></th>\n",
       "      <th>EmployeeID</th>\n",
       "      <th>Name</th>\n",
       "      <th>Age</th>\n",
       "      <th>Department</th>\n",
       "      <th>Salary</th>\n",
       "    </tr>\n",
       "  </thead>\n",
       "  <tbody>\n",
       "    <tr>\n",
       "      <th>2</th>\n",
       "      <td>3</td>\n",
       "      <td>Chintu</td>\n",
       "      <td>38</td>\n",
       "      <td>IT</td>\n",
       "      <td>82156</td>\n",
       "    </tr>\n",
       "    <tr>\n",
       "      <th>5</th>\n",
       "      <td>6</td>\n",
       "      <td>Ram</td>\n",
       "      <td>22</td>\n",
       "      <td>IT</td>\n",
       "      <td>89250</td>\n",
       "    </tr>\n",
       "  </tbody>\n",
       "</table>\n",
       "</div>"
      ],
      "text/plain": [
       "   EmployeeID    Name  Age Department  Salary\n",
       "2           3  Chintu   38         IT   82156\n",
       "5           6     Ram   22         IT   89250"
      ]
     },
     "execution_count": 8,
     "metadata": {},
     "output_type": "execute_result"
    }
   ],
   "source": [
    "#Accessing rows at index 2 and 5\n",
    "df.iloc[[2, 5]]"
   ]
  },
  {
   "cell_type": "code",
   "execution_count": 9,
   "id": "5edd9769",
   "metadata": {},
   "outputs": [
    {
     "data": {
      "text/plain": [
       "77070"
      ]
     },
     "execution_count": 9,
     "metadata": {},
     "output_type": "execute_result"
    }
   ],
   "source": [
    "#Accessing the Salary of EmployeeID 3\n",
    "df.loc[3, 'Salary']"
   ]
  },
  {
   "cell_type": "code",
   "execution_count": 10,
   "id": "c1d99d25",
   "metadata": {},
   "outputs": [
    {
     "data": {
      "text/html": [
       "<div>\n",
       "<style scoped>\n",
       "    .dataframe tbody tr th:only-of-type {\n",
       "        vertical-align: middle;\n",
       "    }\n",
       "\n",
       "    .dataframe tbody tr th {\n",
       "        vertical-align: top;\n",
       "    }\n",
       "\n",
       "    .dataframe thead th {\n",
       "        text-align: right;\n",
       "    }\n",
       "</style>\n",
       "<table border=\"1\" class=\"dataframe\">\n",
       "  <thead>\n",
       "    <tr style=\"text-align: right;\">\n",
       "      <th></th>\n",
       "      <th>EmployeeID</th>\n",
       "      <th>Name</th>\n",
       "      <th>Age</th>\n",
       "      <th>Department</th>\n",
       "      <th>Salary</th>\n",
       "    </tr>\n",
       "  </thead>\n",
       "  <tbody>\n",
       "    <tr>\n",
       "      <th>0</th>\n",
       "      <td>1</td>\n",
       "      <td>Risa</td>\n",
       "      <td>48</td>\n",
       "      <td>HR</td>\n",
       "      <td>47466</td>\n",
       "    </tr>\n",
       "    <tr>\n",
       "      <th>2</th>\n",
       "      <td>3</td>\n",
       "      <td>Chintu</td>\n",
       "      <td>38</td>\n",
       "      <td>IT</td>\n",
       "      <td>82156</td>\n",
       "    </tr>\n",
       "    <tr>\n",
       "      <th>3</th>\n",
       "      <td>4</td>\n",
       "      <td>NaN</td>\n",
       "      <td>33</td>\n",
       "      <td>Marketing</td>\n",
       "      <td>77070</td>\n",
       "    </tr>\n",
       "    <tr>\n",
       "      <th>6</th>\n",
       "      <td>7</td>\n",
       "      <td>Shyam</td>\n",
       "      <td>47</td>\n",
       "      <td>HR</td>\n",
       "      <td>83235</td>\n",
       "    </tr>\n",
       "    <tr>\n",
       "      <th>8</th>\n",
       "      <td>9</td>\n",
       "      <td>Nishi</td>\n",
       "      <td>43</td>\n",
       "      <td>Marketing</td>\n",
       "      <td>71381</td>\n",
       "    </tr>\n",
       "    <tr>\n",
       "      <th>9</th>\n",
       "      <td>10</td>\n",
       "      <td>Yash</td>\n",
       "      <td>45</td>\n",
       "      <td>Sales</td>\n",
       "      <td>48391</td>\n",
       "    </tr>\n",
       "  </tbody>\n",
       "</table>\n",
       "</div>"
      ],
      "text/plain": [
       "   EmployeeID    Name  Age Department  Salary\n",
       "0           1    Risa   48         HR   47466\n",
       "2           3  Chintu   38         IT   82156\n",
       "3           4     NaN   33  Marketing   77070\n",
       "6           7   Shyam   47         HR   83235\n",
       "8           9   Nishi   43  Marketing   71381\n",
       "9          10    Yash   45      Sales   48391"
      ]
     },
     "execution_count": 10,
     "metadata": {},
     "output_type": "execute_result"
    }
   ],
   "source": [
    "# Accessing rows where age is greater than 30 \n",
    "df[df['Age'] > 30]"
   ]
  },
  {
   "cell_type": "code",
   "execution_count": 11,
   "id": "126f3b82",
   "metadata": {},
   "outputs": [
    {
     "data": {
      "text/html": [
       "<div>\n",
       "<style scoped>\n",
       "    .dataframe tbody tr th:only-of-type {\n",
       "        vertical-align: middle;\n",
       "    }\n",
       "\n",
       "    .dataframe tbody tr th {\n",
       "        vertical-align: top;\n",
       "    }\n",
       "\n",
       "    .dataframe thead th {\n",
       "        text-align: right;\n",
       "    }\n",
       "</style>\n",
       "<table border=\"1\" class=\"dataframe\">\n",
       "  <thead>\n",
       "    <tr style=\"text-align: right;\">\n",
       "      <th></th>\n",
       "      <th>EmployeeID</th>\n",
       "      <th>Name</th>\n",
       "      <th>Age</th>\n",
       "      <th>Department</th>\n",
       "      <th>Salary</th>\n",
       "    </tr>\n",
       "  </thead>\n",
       "  <tbody>\n",
       "    <tr>\n",
       "      <th>2</th>\n",
       "      <td>3</td>\n",
       "      <td>Chintu</td>\n",
       "      <td>38</td>\n",
       "      <td>IT</td>\n",
       "      <td>82156</td>\n",
       "    </tr>\n",
       "    <tr>\n",
       "      <th>3</th>\n",
       "      <td>4</td>\n",
       "      <td>NaN</td>\n",
       "      <td>33</td>\n",
       "      <td>Marketing</td>\n",
       "      <td>77070</td>\n",
       "    </tr>\n",
       "    <tr>\n",
       "      <th>6</th>\n",
       "      <td>7</td>\n",
       "      <td>Shyam</td>\n",
       "      <td>47</td>\n",
       "      <td>HR</td>\n",
       "      <td>83235</td>\n",
       "    </tr>\n",
       "    <tr>\n",
       "      <th>8</th>\n",
       "      <td>9</td>\n",
       "      <td>Nishi</td>\n",
       "      <td>43</td>\n",
       "      <td>Marketing</td>\n",
       "      <td>71381</td>\n",
       "    </tr>\n",
       "  </tbody>\n",
       "</table>\n",
       "</div>"
      ],
      "text/plain": [
       "   EmployeeID    Name  Age Department  Salary\n",
       "2           3  Chintu   38         IT   82156\n",
       "3           4     NaN   33  Marketing   77070\n",
       "6           7   Shyam   47         HR   83235\n",
       "8           9   Nishi   43  Marketing   71381"
      ]
     },
     "execution_count": 11,
     "metadata": {},
     "output_type": "execute_result"
    }
   ],
   "source": [
    "#Accessing rows where age is greater than 30 and Salary is greater than 50000\n",
    "df[(df['Age'] > 30) & (df['Salary'] > 50000)]"
   ]
  },
  {
   "cell_type": "code",
   "execution_count": 12,
   "id": "69980ca2",
   "metadata": {},
   "outputs": [
    {
     "data": {
      "text/html": [
       "<div>\n",
       "<style scoped>\n",
       "    .dataframe tbody tr th:only-of-type {\n",
       "        vertical-align: middle;\n",
       "    }\n",
       "\n",
       "    .dataframe tbody tr th {\n",
       "        vertical-align: top;\n",
       "    }\n",
       "\n",
       "    .dataframe thead th {\n",
       "        text-align: right;\n",
       "    }\n",
       "</style>\n",
       "<table border=\"1\" class=\"dataframe\">\n",
       "  <thead>\n",
       "    <tr style=\"text-align: right;\">\n",
       "      <th></th>\n",
       "      <th>EmployeeID</th>\n",
       "      <th>Name</th>\n",
       "      <th>Age</th>\n",
       "      <th>Department</th>\n",
       "      <th>Salary</th>\n",
       "    </tr>\n",
       "  </thead>\n",
       "  <tbody>\n",
       "    <tr>\n",
       "      <th>5</th>\n",
       "      <td>6</td>\n",
       "      <td>Ram</td>\n",
       "      <td>22</td>\n",
       "      <td>IT</td>\n",
       "      <td>89250</td>\n",
       "    </tr>\n",
       "    <tr>\n",
       "      <th>6</th>\n",
       "      <td>7</td>\n",
       "      <td>Shyam</td>\n",
       "      <td>47</td>\n",
       "      <td>HR</td>\n",
       "      <td>83235</td>\n",
       "    </tr>\n",
       "    <tr>\n",
       "      <th>2</th>\n",
       "      <td>3</td>\n",
       "      <td>Chintu</td>\n",
       "      <td>38</td>\n",
       "      <td>IT</td>\n",
       "      <td>82156</td>\n",
       "    </tr>\n",
       "    <tr>\n",
       "      <th>4</th>\n",
       "      <td>5</td>\n",
       "      <td>Jhilmil</td>\n",
       "      <td>22</td>\n",
       "      <td>Sales</td>\n",
       "      <td>81493</td>\n",
       "    </tr>\n",
       "    <tr>\n",
       "      <th>3</th>\n",
       "      <td>4</td>\n",
       "      <td>NaN</td>\n",
       "      <td>33</td>\n",
       "      <td>Marketing</td>\n",
       "      <td>77070</td>\n",
       "    </tr>\n",
       "    <tr>\n",
       "      <th>8</th>\n",
       "      <td>9</td>\n",
       "      <td>Nishi</td>\n",
       "      <td>43</td>\n",
       "      <td>Marketing</td>\n",
       "      <td>71381</td>\n",
       "    </tr>\n",
       "    <tr>\n",
       "      <th>7</th>\n",
       "      <td>8</td>\n",
       "      <td>Laxman</td>\n",
       "      <td>25</td>\n",
       "      <td>NaN</td>\n",
       "      <td>66200</td>\n",
       "    </tr>\n",
       "    <tr>\n",
       "      <th>9</th>\n",
       "      <td>10</td>\n",
       "      <td>Yash</td>\n",
       "      <td>45</td>\n",
       "      <td>Sales</td>\n",
       "      <td>48391</td>\n",
       "    </tr>\n",
       "    <tr>\n",
       "      <th>1</th>\n",
       "      <td>2</td>\n",
       "      <td>Babita</td>\n",
       "      <td>28</td>\n",
       "      <td>Finance</td>\n",
       "      <td>48145</td>\n",
       "    </tr>\n",
       "    <tr>\n",
       "      <th>0</th>\n",
       "      <td>1</td>\n",
       "      <td>Risa</td>\n",
       "      <td>48</td>\n",
       "      <td>HR</td>\n",
       "      <td>47466</td>\n",
       "    </tr>\n",
       "  </tbody>\n",
       "</table>\n",
       "</div>"
      ],
      "text/plain": [
       "   EmployeeID     Name  Age Department  Salary\n",
       "5           6      Ram   22         IT   89250\n",
       "6           7    Shyam   47         HR   83235\n",
       "2           3   Chintu   38         IT   82156\n",
       "4           5  Jhilmil   22      Sales   81493\n",
       "3           4      NaN   33  Marketing   77070\n",
       "8           9    Nishi   43  Marketing   71381\n",
       "7           8   Laxman   25        NaN   66200\n",
       "9          10     Yash   45      Sales   48391\n",
       "1           2   Babita   28    Finance   48145\n",
       "0           1     Risa   48         HR   47466"
      ]
     },
     "execution_count": 12,
     "metadata": {},
     "output_type": "execute_result"
    }
   ],
   "source": [
    "# Sort by Salary in descending order\n",
    "df.sort_values(by='Salary', ascending=False)"
   ]
  },
  {
   "cell_type": "code",
   "execution_count": 13,
   "id": "efe60149",
   "metadata": {},
   "outputs": [
    {
     "data": {
      "text/plain": [
       "EmployeeID    0\n",
       "Name          1\n",
       "Age           0\n",
       "Department    1\n",
       "Salary        0\n",
       "dtype: int64"
      ]
     },
     "execution_count": 13,
     "metadata": {},
     "output_type": "execute_result"
    }
   ],
   "source": [
    "#Acessing the number of null values\n",
    "df.isnull().sum()"
   ]
  },
  {
   "cell_type": "code",
   "execution_count": 14,
   "id": "01f27be4",
   "metadata": {},
   "outputs": [],
   "source": [
    "#dropping the null values and assigning a clean dataframe\n",
    "new_df = df.dropna()"
   ]
  },
  {
   "cell_type": "code",
   "execution_count": 15,
   "id": "a01d16e6",
   "metadata": {},
   "outputs": [
    {
     "data": {
      "text/plain": [
       "EmployeeID    0\n",
       "Name          0\n",
       "Age           0\n",
       "Department    0\n",
       "Salary        0\n",
       "dtype: int64"
      ]
     },
     "execution_count": 15,
     "metadata": {},
     "output_type": "execute_result"
    }
   ],
   "source": [
    "#workin in the dataframe with no null values\n",
    "new_df.isnull().sum()"
   ]
  },
  {
   "cell_type": "code",
   "execution_count": 16,
   "id": "04822544",
   "metadata": {},
   "outputs": [
    {
     "data": {
      "text/html": [
       "<div>\n",
       "<style scoped>\n",
       "    .dataframe tbody tr th:only-of-type {\n",
       "        vertical-align: middle;\n",
       "    }\n",
       "\n",
       "    .dataframe tbody tr th {\n",
       "        vertical-align: top;\n",
       "    }\n",
       "\n",
       "    .dataframe thead th {\n",
       "        text-align: right;\n",
       "    }\n",
       "</style>\n",
       "<table border=\"1\" class=\"dataframe\">\n",
       "  <thead>\n",
       "    <tr style=\"text-align: right;\">\n",
       "      <th></th>\n",
       "      <th>EmployeeID</th>\n",
       "      <th>Name</th>\n",
       "      <th>Age</th>\n",
       "      <th>Department</th>\n",
       "      <th>Salary</th>\n",
       "    </tr>\n",
       "  </thead>\n",
       "  <tbody>\n",
       "    <tr>\n",
       "      <th>0</th>\n",
       "      <td>1</td>\n",
       "      <td>Risa</td>\n",
       "      <td>48</td>\n",
       "      <td>HR</td>\n",
       "      <td>47466</td>\n",
       "    </tr>\n",
       "    <tr>\n",
       "      <th>1</th>\n",
       "      <td>2</td>\n",
       "      <td>Babita</td>\n",
       "      <td>28</td>\n",
       "      <td>Finance</td>\n",
       "      <td>48145</td>\n",
       "    </tr>\n",
       "    <tr>\n",
       "      <th>2</th>\n",
       "      <td>3</td>\n",
       "      <td>Chintu</td>\n",
       "      <td>38</td>\n",
       "      <td>IT</td>\n",
       "      <td>82156</td>\n",
       "    </tr>\n",
       "    <tr>\n",
       "      <th>4</th>\n",
       "      <td>5</td>\n",
       "      <td>Jhilmil</td>\n",
       "      <td>22</td>\n",
       "      <td>Sales</td>\n",
       "      <td>81493</td>\n",
       "    </tr>\n",
       "    <tr>\n",
       "      <th>5</th>\n",
       "      <td>6</td>\n",
       "      <td>Ram</td>\n",
       "      <td>22</td>\n",
       "      <td>IT</td>\n",
       "      <td>89250</td>\n",
       "    </tr>\n",
       "    <tr>\n",
       "      <th>6</th>\n",
       "      <td>7</td>\n",
       "      <td>Shyam</td>\n",
       "      <td>47</td>\n",
       "      <td>HR</td>\n",
       "      <td>83235</td>\n",
       "    </tr>\n",
       "    <tr>\n",
       "      <th>8</th>\n",
       "      <td>9</td>\n",
       "      <td>Nishi</td>\n",
       "      <td>43</td>\n",
       "      <td>Marketing</td>\n",
       "      <td>71381</td>\n",
       "    </tr>\n",
       "    <tr>\n",
       "      <th>9</th>\n",
       "      <td>10</td>\n",
       "      <td>Yash</td>\n",
       "      <td>45</td>\n",
       "      <td>Sales</td>\n",
       "      <td>48391</td>\n",
       "    </tr>\n",
       "  </tbody>\n",
       "</table>\n",
       "</div>"
      ],
      "text/plain": [
       "   EmployeeID     Name  Age Department  Salary\n",
       "0           1     Risa   48         HR   47466\n",
       "1           2   Babita   28    Finance   48145\n",
       "2           3   Chintu   38         IT   82156\n",
       "4           5  Jhilmil   22      Sales   81493\n",
       "5           6      Ram   22         IT   89250\n",
       "6           7    Shyam   47         HR   83235\n",
       "8           9    Nishi   43  Marketing   71381\n",
       "9          10     Yash   45      Sales   48391"
      ]
     },
     "execution_count": 16,
     "metadata": {},
     "output_type": "execute_result"
    }
   ],
   "source": [
    "new_df"
   ]
  },
  {
   "cell_type": "code",
   "execution_count": 17,
   "id": "869d1f61",
   "metadata": {},
   "outputs": [
    {
     "data": {
      "image/png": "[encoded data removed]",
      "text/plain": [
       "<Figure size 1000x600 with 1 Axes>"
      ]
     },
     "metadata": {},
     "output_type": "display_data"
    }
   ],
   "source": [
    "# Plotting a histogram of salaries\n",
    "plt.figure(figsize=(10, 6))\n",
    "plt.hist(new_df['Salary'], bins=5, edgecolor='black')\n",
    "plt.title('Salaries')\n",
    "plt.xlabel('Salary')\n",
    "plt.ylabel('Frequency')\n",
    "plt.show()\n"
   ]
  },
  {
   "cell_type": "code",
   "execution_count": 18,
   "id": "7cc9ddd9",
   "metadata": {},
   "outputs": [
    {
     "data": {
      "image/png": "[encoded data removed]",
      "text/plain": [
       "<Figure size 1000x600 with 1 Axes>"
      ]
     },
     "metadata": {},
     "output_type": "display_data"
    }
   ],
   "source": [
    "# Plotting average salary by department\n",
    "avg_salary = new_df.groupby('Department')['Salary'].mean()\n",
    "plt.figure(figsize=(10, 6))\n",
    "avg_salary.plot(kind='bar')\n",
    "plt.title('Average Salary by Department')\n",
    "plt.xlabel('Department')\n",
    "plt.ylabel('Average Salary')\n",
    "plt.show()\n"
   ]
  },
  {
   "cell_type": "code",
   "execution_count": 19,
   "id": "84974cc7",
   "metadata": {},
   "outputs": [
    {
     "data": {
      "image/png": "[encoded data removed]",
      "text/plain": [
       "<Figure size 1000x600 with 1 Axes>"
      ]
     },
     "metadata": {},
     "output_type": "display_data"
    }
   ],
   "source": [
    "#Plotting salary by age\n",
    "plt.figure(figsize=(10, 6))\n",
    "plt.scatter(new_df['Age'], new_df['Salary'], color='blue', alpha=0.7, edgecolors='w', s=100)\n",
    "plt.title('Salary by Age')\n",
    "plt.xlabel('Age')\n",
    "plt.ylabel('Salary')\n",
    "plt.grid(True)\n",
    "plt.show()"
   ]
  },
  {
   "cell_type": "code",
   "execution_count": null,
   "id": "9b174611",
   "metadata": {},
   "outputs": [],
   "source": []
  }
 ],
 "metadata": {
  "kernelspec": {
   "display_name": "Python 3 (ipykernel)",
   "language": "python",
   "name": "python3"
  },
  "language_info": {
   "codemirror_mode": {
    "name": "ipython",
    "version": 3
   },
   "file_extension": ".py",
   "mimetype": "text/x-python",
   "name": "python",
   "nbconvert_exporter": "python",
   "pygments_lexer": "ipython3",
   "version": "3.11.4"
  }
 },
 "nbformat": 4,
 "nbformat_minor": 5
}
