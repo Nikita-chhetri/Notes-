{
 "cells": [
  {
   "cell_type": "markdown",
   "id": "60d265a7",
   "metadata": {},
   "source": [
    "<h1 align=\\\"center\\\"><font color='green'><font size=\\\"6\\\">Machine Learning</font> </h1>"
   ]
  },
  {
   "cell_type": "markdown",
   "id": "109e3660",
   "metadata": {},
   "source": [
    "<div style=\"background-color: #90EE90;\">.</div>  </div>"
   ]
  },
  {
   "cell_type": "markdown",
   "id": "af848459",
   "metadata": {},
   "source": [
    " - Machine learning (ML) is a subset of artificial intelligence (AI) that enables computers to learn from and make predictions or decisions based on data without being explicitly programmed for specific tasks. \n",
    " - Instead of using hard-coded rules, machine learning algorithms learn from patterns in data and improve their performance over time.\n"
   ]
  },
  {
   "cell_type": "markdown",
   "id": "e78a9f1b",
   "metadata": {},
   "source": [
    "#### Types of Machine Learning:\n",
    "\n",
    " - Supervised Learning:\n",
    "    - In supervised learning, the model is trained on labeled data, where both the input and the corresponding output (target) are known.\n",
    "     - The goal is to establish a relationship between inputs and outputs to accurately predict results for new, unseen data.\n",
    " \n",
    " \n",
    " \n",
    "\n",
    " - Unsupervised Learning:\n",
    "    - In unsupervised learning, the model is given data without any labels or specific output. \n",
    "     - The goal is to find hidden patterns or structures in the data, such as clustering similar data points or reducing dimensionality.\n",
    "\n",
    " - Semi-Supervised Learning:\n",
    "    - Semi-supervised learning lies between supervised and unsupervised learning.\n",
    "     - The model is trained on a small amount of labeled data and a large amount of unlabeled data, leveraging the labeled data to improve learning from the unlabeled portion.\n",
    " \n",
    " - Self-Supervised Learning: \n",
    "    - In self-supervised learning, the model generates labels from the input data itself. The model typically learns to predict a part of the data from other parts.\n",
    "     - It is often used for tasks like pretraining models that will later be fine-tuned on specific supervised tasks.\n",
    " \n",
    " - Reinforcement Learning:\n",
    "    - Reinforcement learning involves an agent that learns to make decisions by interacting with an environment.\n",
    "     - The agent receives rewards or penalties for its actions and learns to maximize cumulative rewards over time.\n"
   ]
  },
  {
   "cell_type": "markdown",
   "id": "f5ebdc90",
   "metadata": {},
   "source": [
    "### Supervised Learning\n",
    "  - Supervised learning is a machine learning approach where models are trained on labeled data to predict outcomes or classify data based on known input-output pairs. \n",
    "   - It involves learning from examples with known results to make predictions on new, unseen data."
   ]
  },
  {
   "cell_type": "markdown",
   "id": "af5b78b6",
   "metadata": {},
   "source": [
    "##### Types of Supervised Learning:\n",
    "\n",
    "  Classification:\n",
    "  -  Predicts categorical outcomes. Examples include spam detection (spam or not spam) and medical diagnosis (disease or no disease).\n",
    "\n",
    " Regression:\n",
    " - Predicts continuous outcomes. Examples include predicting house prices, stock prices, or temperature.\n",
    "    \n"
   ]
  },
  {
   "cell_type": "code",
   "execution_count": 1,
   "id": "46474314",
   "metadata": {
    "scrolled": true
   },
   "outputs": [],
   "source": [
    "#These are further divided into:"
   ]
  },
  {
   "cell_type": "markdown",
   "id": "8a924612",
   "metadata": {},
   "source": [
    "<div class = \"alert alert-block alert-success\">\n",
    "     <font size = \"5\">\n",
    "   Linear Regression"
   ]
  },
  {
   "cell_type": "markdown",
   "id": "0760320a",
   "metadata": {},
   "source": [
    " - Linear regression is a supervised machine learning technique that uses statistical methods to model the relationship between a dependent variable (y) and one or more independent variables (x).\n",
    "  - It assumes a linear relationship between the variables, meaning that the relationship can be represented by a straight line."
   ]
  },
  {
   "cell_type": "code",
   "execution_count": 2,
   "id": "d7085134",
   "metadata": {},
   "outputs": [],
   "source": [
    "#Below is a diagram explaining the linear regression"
   ]
  },
  {
   "cell_type": "markdown",
   "id": "16b17c1d",
   "metadata": {},
   "source": [
    "#### Applications\n",
    " - Predicting house prices: Using features like square footage, number of bedrooms, and location to estimate the value of a house.\n",
    " - Forecasting sales: Analyzing factors like marketing spend and economic indicators to predict future sales.\n",
    " - Understanding the relationship between income and education: Examining how education level affects income levels."
   ]
  },
  {
   "cell_type": "code",
   "execution_count": 3,
   "id": "659cb687",
   "metadata": {},
   "outputs": [],
   "source": [
    "#importing necessary libraries\n",
    "import numpy as np\n",
    "import pandas as pd \n",
    "import matplotlib.pyplot as plt\n",
    "from sklearn.model_selection import train_test_split\n",
    "from sklearn.linear_model import LinearRegression\n",
    "from sklearn.metrics import mean_squared_error, r2_score"
   ]
  },
  {
   "cell_type": "code",
   "execution_count": 4,
   "id": "ba452172",
   "metadata": {},
   "outputs": [],
   "source": [
    "#Generating a synthetic dataset to predict school fees\n",
    "np.random.seed(42)\n",
    "Grade = np.random.randint(1, 10, size=50) #students from Grade 1 to 10\n",
    "Activities = np.random.choice([2, 5], size=50) #students must participate in 2-5 activities\n",
    "Fees = (Grade * 10000) + (Activities * 100) + np.random.normal(0, 1000, 50)\n",
    "#Simulating Fees based on Grade, activities and random noise"
   ]
  },
  {
   "cell_type": "code",
   "execution_count": 5,
   "id": "0ef6b74a",
   "metadata": {},
   "outputs": [
    {
     "data": {
      "text/html": [
       "<div>\n",
       "<style scoped>\n",
       "    .dataframe tbody tr th:only-of-type {\n",
       "        vertical-align: middle;\n",
       "    }\n",
       "\n",
       "    .dataframe tbody tr th {\n",
       "        vertical-align: top;\n",
       "    }\n",
       "\n",
       "    .dataframe thead th {\n",
       "        text-align: right;\n",
       "    }\n",
       "</style>\n",
       "<table border=\"1\" class=\"dataframe\">\n",
       "  <thead>\n",
       "    <tr style=\"text-align: right;\">\n",
       "      <th></th>\n",
       "      <th>Grade</th>\n",
       "      <th>Activities</th>\n",
       "      <th>Fees</th>\n",
       "    </tr>\n",
       "  </thead>\n",
       "  <tbody>\n",
       "    <tr>\n",
       "      <th>0</th>\n",
       "      <td>7</td>\n",
       "      <td>5</td>\n",
       "      <td>68936.933205</td>\n",
       "    </tr>\n",
       "    <tr>\n",
       "      <th>1</th>\n",
       "      <td>4</td>\n",
       "      <td>5</td>\n",
       "      <td>39704.369008</td>\n",
       "    </tr>\n",
       "    <tr>\n",
       "      <th>2</th>\n",
       "      <td>8</td>\n",
       "      <td>5</td>\n",
       "      <td>81430.584401</td>\n",
       "    </tr>\n",
       "    <tr>\n",
       "      <th>3</th>\n",
       "      <td>5</td>\n",
       "      <td>5</td>\n",
       "      <td>51177.767410</td>\n",
       "    </tr>\n",
       "    <tr>\n",
       "      <th>4</th>\n",
       "      <td>7</td>\n",
       "      <td>5</td>\n",
       "      <td>71198.440259</td>\n",
       "    </tr>\n",
       "  </tbody>\n",
       "</table>\n",
       "</div>"
      ],
      "text/plain": [
       "   Grade  Activities          Fees\n",
       "0      7           5  68936.933205\n",
       "1      4           5  39704.369008\n",
       "2      8           5  81430.584401\n",
       "3      5           5  51177.767410\n",
       "4      7           5  71198.440259"
      ]
     },
     "execution_count": 5,
     "metadata": {},
     "output_type": "execute_result"
    }
   ],
   "source": [
    "School = pd.DataFrame({\n",
    "    'Grade': Grade,\n",
    "    'Activities': Activities,\n",
    "    'Fees': Fees\n",
    "})\n",
    "\n",
    "School.head()"
   ]
  },
  {
   "cell_type": "code",
   "execution_count": 6,
   "id": "471dc751",
   "metadata": {},
   "outputs": [],
   "source": [
    "#Spliting the dataset into features (Grade, Activities) and target (Fees).\n",
    "# Assigning columns to Features(X) and target(y) \n",
    "X = School[[\"Grade\",\"Activities\"]]\n",
    "y = School[\"Fees\"]\n",
    "\n",
    "#Performing an 80/20 split to create training and test datasets.\n",
    "X_train, X_test, y_train, y_test = train_test_split(X, y, test_size = 0.2, random_state = 42)"
   ]
  },
  {
   "cell_type": "code",
   "execution_count": 7,
   "id": "de8fb82f",
   "metadata": {},
   "outputs": [],
   "source": [
    "# X is in uppercase because it represents many input features (like a table with multiple columns),\n",
    "# While y is in lowercase as it is just one target value (like a single column). "
   ]
  },
  {
   "cell_type": "code",
   "execution_count": 8,
   "id": "43ed62f0",
   "metadata": {},
   "outputs": [
    {
     "data": {
      "text/html": [
       "<style>#sk-container-id-1 {color: black;}#sk-container-id-1 pre{padding: 0;}#sk-container-id-1 div.sk-toggleable {background-color: white;}#sk-container-id-1 label.sk-toggleable__label {cursor: pointer;display: block;width: 100%;margin-bottom: 0;padding: 0.3em;box-sizing: border-box;text-align: center;}#sk-container-id-1 label.sk-toggleable__label-arrow:before {content: \"▸\";float: left;margin-right: 0.25em;color: #696969;}#sk-container-id-1 label.sk-toggleable__label-arrow:hover:before {color: black;}#sk-container-id-1 div.sk-estimator:hover label.sk-toggleable__label-arrow:before {color: black;}#sk-container-id-1 div.sk-toggleable__content {max-height: 0;max-width: 0;overflow: hidden;text-align: left;background-color: #f0f8ff;}#sk-container-id-1 div.sk-toggleable__content pre {margin: 0.2em;color: black;border-radius: 0.25em;background-color: #f0f8ff;}#sk-container-id-1 input.sk-toggleable__control:checked~div.sk-toggleable__content {max-height: 200px;max-width: 100%;overflow: auto;}#sk-container-id-1 input.sk-toggleable__control:checked~label.sk-toggleable__label-arrow:before {content: \"▾\";}#sk-container-id-1 div.sk-estimator input.sk-toggleable__control:checked~label.sk-toggleable__label {background-color: #d4ebff;}#sk-container-id-1 div.sk-label input.sk-toggleable__control:checked~label.sk-toggleable__label {background-color: #d4ebff;}#sk-container-id-1 input.sk-hidden--visually {border: 0;clip: rect(1px 1px 1px 1px);clip: rect(1px, 1px, 1px, 1px);height: 1px;margin: -1px;overflow: hidden;padding: 0;position: absolute;width: 1px;}#sk-container-id-1 div.sk-estimator {font-family: monospace;background-color: #f0f8ff;border: 1px dotted black;border-radius: 0.25em;box-sizing: border-box;margin-bottom: 0.5em;}#sk-container-id-1 div.sk-estimator:hover {background-color: #d4ebff;}#sk-container-id-1 div.sk-parallel-item::after {content: \"\";width: 100%;border-bottom: 1px solid gray;flex-grow: 1;}#sk-container-id-1 div.sk-label:hover label.sk-toggleable__label {background-color: #d4ebff;}#sk-container-id-1 div.sk-serial::before {content: \"\";position: absolute;border-left: 1px solid gray;box-sizing: border-box;top: 0;bottom: 0;left: 50%;z-index: 0;}#sk-container-id-1 div.sk-serial {display: flex;flex-direction: column;align-items: center;background-color: white;padding-right: 0.2em;padding-left: 0.2em;position: relative;}#sk-container-id-1 div.sk-item {position: relative;z-index: 1;}#sk-container-id-1 div.sk-parallel {display: flex;align-items: stretch;justify-content: center;background-color: white;position: relative;}#sk-container-id-1 div.sk-item::before, #sk-container-id-1 div.sk-parallel-item::before {content: \"\";position: absolute;border-left: 1px solid gray;box-sizing: border-box;top: 0;bottom: 0;left: 50%;z-index: -1;}#sk-container-id-1 div.sk-parallel-item {display: flex;flex-direction: column;z-index: 1;position: relative;background-color: white;}#sk-container-id-1 div.sk-parallel-item:first-child::after {align-self: flex-end;width: 50%;}#sk-container-id-1 div.sk-parallel-item:last-child::after {align-self: flex-start;width: 50%;}#sk-container-id-1 div.sk-parallel-item:only-child::after {width: 0;}#sk-container-id-1 div.sk-dashed-wrapped {border: 1px dashed gray;margin: 0 0.4em 0.5em 0.4em;box-sizing: border-box;padding-bottom: 0.4em;background-color: white;}#sk-container-id-1 div.sk-label label {font-family: monospace;font-weight: bold;display: inline-block;line-height: 1.2em;}#sk-container-id-1 div.sk-label-container {text-align: center;}#sk-container-id-1 div.sk-container {/* jupyter's `normalize.less` sets `[hidden] { display: none; }` but bootstrap.min.css set `[hidden] { display: none !important; }` so we also need the `!important` here to be able to override the default hidden behavior on the sphinx rendered scikit-learn.org. See: https://github.com/scikit-learn/scikit-learn/issues/21755 */display: inline-block !important;position: relative;}#sk-container-id-1 div.sk-text-repr-fallback {display: none;}</style><div id=\"sk-container-id-1\" class=\"sk-top-container\"><div class=\"sk-text-repr-fallback\"><pre>LinearRegression()</pre><b>In a Jupyter environment, please rerun this cell to show the HTML representation or trust the notebook. <br />On GitHub, the HTML representation is unable to render, please try loading this page with nbviewer.org.</b></div><div class=\"sk-container\" hidden><div class=\"sk-item\"><div class=\"sk-estimator sk-toggleable\"><input class=\"sk-toggleable__control sk-hidden--visually\" id=\"sk-estimator-id-1\" type=\"checkbox\" checked><label for=\"sk-estimator-id-1\" class=\"sk-toggleable__label sk-toggleable__label-arrow\">LinearRegression</label><div class=\"sk-toggleable__content\"><pre>LinearRegression()</pre></div></div></div></div></div>"
      ],
      "text/plain": [
       "LinearRegression()"
      ]
     },
     "execution_count": 8,
     "metadata": {},
     "output_type": "execute_result"
    }
   ],
   "source": [
    "#Training the model \n",
    "model = LinearRegression()\n",
    "model.fit(X_train, y_train)"
   ]
  },
  {
   "cell_type": "code",
   "execution_count": 9,
   "id": "0d2a94e0",
   "metadata": {},
   "outputs": [
    {
     "data": {
      "text/plain": [
       "array([60408.42830752, 90439.59755548, 29994.55934086, 29994.55934086,\n",
       "       60408.42830752, 19984.16959154, 40387.64880888, 70036.11833814,\n",
       "       50015.3388395 , 50398.0385582 ])"
      ]
     },
     "execution_count": 9,
     "metadata": {},
     "output_type": "execute_result"
    }
   ],
   "source": [
    "# Predicting on the test set\n",
    "y_pred = model.predict(X_test)\n",
    "y_pred"
   ]
  },
  {
   "cell_type": "code",
   "execution_count": 10,
   "id": "0d1e9b97",
   "metadata": {},
   "outputs": [
    {
     "name": "stdout",
     "output_type": "stream",
     "text": [
      "Mean squared Error: 1288097.9002499683\n",
      "R-squared: 0.9969252399293336\n"
     ]
    }
   ],
   "source": [
    "#Calculating MSE and R-squared\n",
    "mse = mean_squared_error(y_test, y_pred)\n",
    "r2 = r2_score(y_test, y_pred)\n",
    "\n",
    "print(f\"Mean squared Error: {mse}\")\n",
    "print(f\"R-squared: {r2}\")"
   ]
  },
  {
   "cell_type": "code",
   "execution_count": 11,
   "id": "27bf22f9",
   "metadata": {},
   "outputs": [
    {
     "name": "stdout",
     "output_type": "stream",
     "text": [
      "Predicted Fees for Grade 3 student involved in 2 activities: Rs.29,994.56\n"
     ]
    },
    {
     "name": "stderr",
     "output_type": "stream",
     "text": [
      "C:\\ProgramData\\anaconda3\\Lib\\site-packages\\sklearn\\base.py:464: UserWarning: X does not have valid feature names, but LinearRegression was fitted with feature names\n",
      "  warnings.warn(\n"
     ]
    }
   ],
   "source": [
    "# Applying model on new data \n",
    "new_student = np.array([[3, 2]]) # Grade 3 student involved in 2 activities\n",
    "predicted_salary = model.predict(new_student)\n",
    "\n",
    "print(f\"Predicted Fees for Grade 3 student involved in 2 activities: Rs.{predicted_salary[0]:,.2f}\")"
   ]
  },
  {
   "cell_type": "markdown",
   "id": "cedf0552",
   "metadata": {},
   "source": [
    "We are getting warning because:\n",
    "- we trained the model with data that had feature names.\n",
    " - Now, we're trying to use the model to predict on new data that doesn't have feature names."
   ]
  },
  {
   "cell_type": "code",
   "execution_count": 12,
   "id": "a13cb48f",
   "metadata": {},
   "outputs": [
    {
     "name": "stdout",
     "output_type": "stream",
     "text": [
      "Predicted Fees for Grade 3 student involved in 2 activities: Rs.29,994.56\n"
     ]
    }
   ],
   "source": [
    "# Creating a DataFrame with column names\n",
    "new_student_df = pd.DataFrame({\"Grade\": [3], \"Activities\": [2]})\n",
    "predicted_salary = model.predict(new_student_df)\n",
    "\n",
    "print(f\"Predicted Fees for Grade 3 student involved in 2 activities: Rs.{predicted_salary[0]:,.2f}\")"
   ]
  },
  {
   "cell_type": "code",
   "execution_count": 13,
   "id": "03afe182",
   "metadata": {},
   "outputs": [
    {
     "data": {
      "image/png": "[encoded data removed]",
      "text/plain": [
       "<Figure size 640x480 with 1 Axes>"
      ]
     },
     "metadata": {},
     "output_type": "display_data"
    }
   ],
   "source": [
    "plt.scatter(School['Grade'], School['Fees'], color='blue', label='Actual')\n",
    "plt.plot(School['Grade'], model.predict(X), color='red', label='Predicted')\n",
    "plt.xlabel('Grade')\n",
    "plt.ylabel('Fees')\n",
    "plt.title('Fees per Grade')\n",
    "plt.legend()\n",
    "plt.show()\n"
   ]
  },
  {
   "cell_type": "code",
   "execution_count": null,
   "id": "0cc4136b",
   "metadata": {},
   "outputs": [],
   "source": []
  }
 ],
 "metadata": {
  "kernelspec": {
   "display_name": "Python 3 (ipykernel)",
   "language": "python",
   "name": "python3"
  },
  "language_info": {
   "codemirror_mode": {
    "name": "ipython",
    "version": 3
   },
   "file_extension": ".py",
   "mimetype": "text/x-python",
   "name": "python",
   "nbconvert_exporter": "python",
   "pygments_lexer": "ipython3",
   "version": "3.11.4"
  }
 },
 "nbformat": 4,
 "nbformat_minor": 5
}
