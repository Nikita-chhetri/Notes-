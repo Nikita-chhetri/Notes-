{
 "cells": [
  {
   "cell_type": "markdown",
   "id": "c39ebccb",
   "metadata": {},
   "source": [
    "<h1 align=\\\"center\\\"><font color='green'><font size=\\\"10\\\">Model Evaluation</font> </h1>"
   ]
  },
  {
   "cell_type": "markdown",
   "id": "9e6657d2",
   "metadata": {},
   "source": [
    "<div style=\"background-color: #90EE90;\">.</div>  </div>"
   ]
  },
  {
   "cell_type": "markdown",
   "id": "08c70d39",
   "metadata": {},
   "source": [
    " <div class = \"alert alert-block alert-success\">\n",
    "     <font size = \"5\">\n",
    " Evaluation Metrics for Regression"
   ]
  },
  {
   "cell_type": "markdown",
   "id": "d97c966a",
   "metadata": {},
   "source": [
    " - Regression is a supervised learning task where the goal is to predict continuous numerical values based on input data. In regression, the model learns the relationship between independent variables and a dependent continuous variable.\n",
    "  - Regression: Predicts continuous values (numerical outcomes).\n",
    "\n",
    " - Example: Predicting house prices based on features like size, location, and number of bedrooms, or forecasting future sales based on historical data."
   ]
  },
  {
   "cell_type": "code",
   "execution_count": 1,
   "id": "5fcaaf76",
   "metadata": {},
   "outputs": [],
   "source": [
    "#importing necessary libraries\n",
    "import numpy as np\n",
    "import pandas as pd\n",
    "import matplotlib.pyplot as plt\n",
    "from sklearn.datasets import load_iris\n",
    "from sklearn.model_selection import train_test_split\n",
    "from sklearn.linear_model import LinearRegression\n",
    "from sklearn.metrics import mean_absolute_error, mean_squared_error, r2_score"
   ]
  },
  {
   "cell_type": "code",
   "execution_count": 2,
   "id": "b2948bf3",
   "metadata": {},
   "outputs": [],
   "source": [
    "#Loading the Iris dataset\n",
    "iris = load_iris()\n",
    "# Assigning columns to Features(X) and target(y) \n",
    "X = iris.data[:, :1]  # Using only the first feature (sepal length) for regression\n",
    "y = iris.data[:, 1]    # Using the second feature (sepal width) as the target"
   ]
  },
  {
   "cell_type": "code",
   "execution_count": 3,
   "id": "b07e7b82",
   "metadata": {},
   "outputs": [],
   "source": [
    "#Performing an 70/30 split to create training and test datasets.\n",
    "X_train, X_test, y_train, y_test = train_test_split(X, y, test_size=0.3, random_state=42)\n"
   ]
  },
  {
   "cell_type": "code",
   "execution_count": 4,
   "id": "e099bd0a",
   "metadata": {},
   "outputs": [
    {
     "data": {
      "text/html": [
       "<style>#sk-container-id-1 {color: black;}#sk-container-id-1 pre{padding: 0;}#sk-container-id-1 div.sk-toggleable {background-color: white;}#sk-container-id-1 label.sk-toggleable__label {cursor: pointer;display: block;width: 100%;margin-bottom: 0;padding: 0.3em;box-sizing: border-box;text-align: center;}#sk-container-id-1 label.sk-toggleable__label-arrow:before {content: \"▸\";float: left;margin-right: 0.25em;color: #696969;}#sk-container-id-1 label.sk-toggleable__label-arrow:hover:before {color: black;}#sk-container-id-1 div.sk-estimator:hover label.sk-toggleable__label-arrow:before {color: black;}#sk-container-id-1 div.sk-toggleable__content {max-height: 0;max-width: 0;overflow: hidden;text-align: left;background-color: #f0f8ff;}#sk-container-id-1 div.sk-toggleable__content pre {margin: 0.2em;color: black;border-radius: 0.25em;background-color: #f0f8ff;}#sk-container-id-1 input.sk-toggleable__control:checked~div.sk-toggleable__content {max-height: 200px;max-width: 100%;overflow: auto;}#sk-container-id-1 input.sk-toggleable__control:checked~label.sk-toggleable__label-arrow:before {content: \"▾\";}#sk-container-id-1 div.sk-estimator input.sk-toggleable__control:checked~label.sk-toggleable__label {background-color: #d4ebff;}#sk-container-id-1 div.sk-label input.sk-toggleable__control:checked~label.sk-toggleable__label {background-color: #d4ebff;}#sk-container-id-1 input.sk-hidden--visually {border: 0;clip: rect(1px 1px 1px 1px);clip: rect(1px, 1px, 1px, 1px);height: 1px;margin: -1px;overflow: hidden;padding: 0;position: absolute;width: 1px;}#sk-container-id-1 div.sk-estimator {font-family: monospace;background-color: #f0f8ff;border: 1px dotted black;border-radius: 0.25em;box-sizing: border-box;margin-bottom: 0.5em;}#sk-container-id-1 div.sk-estimator:hover {background-color: #d4ebff;}#sk-container-id-1 div.sk-parallel-item::after {content: \"\";width: 100%;border-bottom: 1px solid gray;flex-grow: 1;}#sk-container-id-1 div.sk-label:hover label.sk-toggleable__label {background-color: #d4ebff;}#sk-container-id-1 div.sk-serial::before {content: \"\";position: absolute;border-left: 1px solid gray;box-sizing: border-box;top: 0;bottom: 0;left: 50%;z-index: 0;}#sk-container-id-1 div.sk-serial {display: flex;flex-direction: column;align-items: center;background-color: white;padding-right: 0.2em;padding-left: 0.2em;position: relative;}#sk-container-id-1 div.sk-item {position: relative;z-index: 1;}#sk-container-id-1 div.sk-parallel {display: flex;align-items: stretch;justify-content: center;background-color: white;position: relative;}#sk-container-id-1 div.sk-item::before, #sk-container-id-1 div.sk-parallel-item::before {content: \"\";position: absolute;border-left: 1px solid gray;box-sizing: border-box;top: 0;bottom: 0;left: 50%;z-index: -1;}#sk-container-id-1 div.sk-parallel-item {display: flex;flex-direction: column;z-index: 1;position: relative;background-color: white;}#sk-container-id-1 div.sk-parallel-item:first-child::after {align-self: flex-end;width: 50%;}#sk-container-id-1 div.sk-parallel-item:last-child::after {align-self: flex-start;width: 50%;}#sk-container-id-1 div.sk-parallel-item:only-child::after {width: 0;}#sk-container-id-1 div.sk-dashed-wrapped {border: 1px dashed gray;margin: 0 0.4em 0.5em 0.4em;box-sizing: border-box;padding-bottom: 0.4em;background-color: white;}#sk-container-id-1 div.sk-label label {font-family: monospace;font-weight: bold;display: inline-block;line-height: 1.2em;}#sk-container-id-1 div.sk-label-container {text-align: center;}#sk-container-id-1 div.sk-container {/* jupyter's `normalize.less` sets `[hidden] { display: none; }` but bootstrap.min.css set `[hidden] { display: none !important; }` so we also need the `!important` here to be able to override the default hidden behavior on the sphinx rendered scikit-learn.org. See: https://github.com/scikit-learn/scikit-learn/issues/21755 */display: inline-block !important;position: relative;}#sk-container-id-1 div.sk-text-repr-fallback {display: none;}</style><div id=\"sk-container-id-1\" class=\"sk-top-container\"><div class=\"sk-text-repr-fallback\"><pre>LinearRegression()</pre><b>In a Jupyter environment, please rerun this cell to show the HTML representation or trust the notebook. <br />On GitHub, the HTML representation is unable to render, please try loading this page with nbviewer.org.</b></div><div class=\"sk-container\" hidden><div class=\"sk-item\"><div class=\"sk-estimator sk-toggleable\"><input class=\"sk-toggleable__control sk-hidden--visually\" id=\"sk-estimator-id-1\" type=\"checkbox\" checked><label for=\"sk-estimator-id-1\" class=\"sk-toggleable__label sk-toggleable__label-arrow\">LinearRegression</label><div class=\"sk-toggleable__content\"><pre>LinearRegression()</pre></div></div></div></div></div>"
      ],
      "text/plain": [
       "LinearRegression()"
      ]
     },
     "execution_count": 4,
     "metadata": {},
     "output_type": "execute_result"
    }
   ],
   "source": [
    "#Training the model \n",
    "model = LinearRegression()\n",
    "model.fit(X_train, y_train)\n"
   ]
  },
  {
   "cell_type": "code",
   "execution_count": 5,
   "id": "cb3ae6f5",
   "metadata": {},
   "outputs": [],
   "source": [
    "#Predicting on the test model\n",
    "y_pred = model.predict(X_test)"
   ]
  },
  {
   "cell_type": "markdown",
   "id": "196edc91",
   "metadata": {},
   "source": [
    "## Mean Absolute Error (MAE)\n",
    " -  Average absolute errors between predicted and actual values.\n",
    " \n",
    " Good for understanding average prediction error in units of the target variable. Useful in real estate price predictions where interpretability is important.\n",
    "##### Formula:\n",
    "$$\n",
    "\\text{MAE} = \\frac{1}{n} \\sum_{i=1}^{n} |y_i - \\hat{y}_i|\n",
    "$$\n",
    "\n",
    "Example: If the actual values are [2, 3, 5] and predictions are [2.5, 2, 6], then:\n",
    "$$\n",
    "\\text{MAE} = \\frac{1}{n} \\sum_{i=1}^{n} |y_i - \\hat{y}_i| = \\frac{|2-2.5| + |3-2| + |5-6|}{3} = \\frac{0.5 + 1 + 1}{3} = \\frac{2.5}{3} \\approx 0.83\n",
    "$$\n"
   ]
  },
  {
   "cell_type": "code",
   "execution_count": 6,
   "id": "1a363ae9",
   "metadata": {},
   "outputs": [
    {
     "name": "stdout",
     "output_type": "stream",
     "text": [
      "Mean Absolute Error (MAE): 0.36\n"
     ]
    }
   ],
   "source": [
    "#Calculating Mean Absolute Error\n",
    "mae = mean_absolute_error(y_test, y_pred)\n",
    "print(f\"Mean Absolute Error (MAE): {mae:.2f}\")"
   ]
  },
  {
   "cell_type": "markdown",
   "id": "90d77599",
   "metadata": {},
   "source": [
    "## Mean Squared Error (MSE)\n",
    " -  Average of squared differences between predicted and actual values.\n",
    " \n",
    " Highlights larger errors more than MAE due to squaring the differences. Useful in scenarios where larger errors are particularly undesirable, like predicting stock prices.\n",
    "##### Formula:\n",
    "$$\n",
    "\\text{MSE} = \\frac{1}{n} \\sum_{i=1}^{n} (y_i - \\hat{y}_i)^2\n",
    "$$\n",
    " Example: Using the same actual and predicted values as before:\n",
    " $$\n",
    "\\text{MSE} = \\frac{1}{n} \\sum_{i=1}^{n} (y_i - \\hat{y}_i)^2 = \\frac{(2-2.5)^2 + (3-2)^2 + (5-6)^2}{3} = \\frac{0.25 + 1 + 1}{3} = \\frac{2.25}{3} \\approx 0.75\n",
    "$$\n"
   ]
  },
  {
   "cell_type": "code",
   "execution_count": 7,
   "id": "3f88010e",
   "metadata": {},
   "outputs": [
    {
     "name": "stdout",
     "output_type": "stream",
     "text": [
      "Mean Squared Error (MSE): 0.23\n"
     ]
    }
   ],
   "source": [
    "#Calculating Mean Squared Error\n",
    "mse = mean_squared_error(y_test, y_pred)\n",
    "print(f\"Mean Squared Error (MSE): {mse:.2f}\")"
   ]
  },
  {
   "cell_type": "markdown",
   "id": "b1c9315c",
   "metadata": {},
   "source": [
    "## Root Mean Squared Error (RMSE)\n",
    " - Average magnitude of the prediction errors, expressed in the same units as the target variable. RMSE gives higher weight to larger errors, making it sensitive to outliers.\n",
    " \n",
    "Useful for understanding overall prediction accuracy, particularly in applications where large errors are particularly undesirable, such as in financial forecasting or engineering.\n",
    "\n",
    "##### Formula:\n",
    "\n",
    "$$\n",
    "\\text{RMSE} = \\sqrt{\\frac{1}{n} \\sum_{i=1}^{n} (y_i - \\hat{y}_i)^2}\n",
    "$$\n",
    "\n",
    "Example:\n",
    "If the actual values are \n",
    "[\n",
    "2\n",
    ",\n",
    "3\n",
    ",\n",
    "5\n",
    "]\n",
    "[2,3,5] and predictions are \n",
    "[\n",
    "2.5\n",
    ",\n",
    "2\n",
    ",\n",
    "6\n",
    "]\n",
    "[2.5,2,6], then:\n",
    "$$\n",
    "\\text{RMSE} = \\sqrt{\\frac{1}{n} \\sum_{i=1}^{n} (y_i - \\hat{y}_i)^2} = \\sqrt{\\frac{1}{3} \\left( (2 - 2.5)^2 + (3 - 2)^2 + (5 - 6)^2 \\right)} \n",
    "$$\n",
    "\n",
    "$$\n",
    "\\text{RMSE} = \\sqrt{\\frac{1}{3} (0.25 + 1 + 1)} = \\sqrt{\\frac{2.25}{3}} \\approx 0.87\n",
    "$$\n"
   ]
  },
  {
   "cell_type": "code",
   "execution_count": 8,
   "id": "676e6137",
   "metadata": {},
   "outputs": [
    {
     "name": "stdout",
     "output_type": "stream",
     "text": [
      "Root Mean Squared Error (RMSE): 0.48\n"
     ]
    }
   ],
   "source": [
    "#Calculating Root Mean Squared Error (RMSE)\n",
    "rmse = np.sqrt(mse)\n",
    "print(f\"Root Mean Squared Error (RMSE): {rmse:.2f}\")"
   ]
  },
  {
   "cell_type": "markdown",
   "id": "70cd7588",
   "metadata": {},
   "source": [
    "## R-squared\n",
    " -  Proportion of variance explained by the model.\n",
    " \n",
    "Indicates the proportion of variance explained by the model. Useful in assessing how well a linear regression model fits the data in contexts like sales forecasting.\n",
    "##### Formula:\n",
    "$$\n",
    "R^2 = 1 - \\frac{\\text{SS}_{res}}{\\text{SS}_{tot}}\n",
    "$$\n",
    "Example: If the total sum of squares (SS_tot) is 10 and the residual sum of squares (SS_res) is 3, then:\n",
    "$$\n",
    "R^2 = 1 - \\frac{SS_{res}}{SS_{tot}} = 1 - \\frac{3}{10} = 0.70\n",
    "$$\n",
    "This means 70% of the variance is explained by the model."
   ]
  },
  {
   "cell_type": "code",
   "execution_count": 9,
   "id": "129dc404",
   "metadata": {},
   "outputs": [
    {
     "name": "stdout",
     "output_type": "stream",
     "text": [
      "R-squared (R²): -0.11\n"
     ]
    }
   ],
   "source": [
    "#Calculating R-squared\n",
    "r2 = r2_score(y_test, y_pred)\n",
    "print(f\"R-squared (R²): {r2:.2f}\")"
   ]
  },
  {
   "cell_type": "code",
   "execution_count": 10,
   "id": "0d2aa48a",
   "metadata": {},
   "outputs": [
    {
     "data": {
      "image/png": "[encoded data removed]",
      "text/plain": [
       "<Figure size 640x480 with 1 Axes>"
      ]
     },
     "metadata": {},
     "output_type": "display_data"
    }
   ],
   "source": [
    "#plotting\n",
    "plt.scatter(X_test, y_test, color='blue', label='Actual')\n",
    "plt.scatter(X_test, y_pred, color='red', label='Predicted', alpha=0.5)\n",
    "plt.plot(X_test, y_pred, color='orange', linewidth=2, label='Regression Line')\n",
    "plt.xlabel('Sepal Length')\n",
    "plt.ylabel('Sepal Width')\n",
    "plt.title('Actual vs Predicted Sepal Width')\n",
    "plt.legend()\n",
    "plt.show()"
   ]
  },
  {
   "cell_type": "markdown",
   "id": "4f8819aa",
   "metadata": {},
   "source": [
    "## Cross-Validation\n",
    "#### K-Fold Cross-Validation\n",
    "-  Splits the dataset into K subsets. Trains the model on K-1 subsets and validates on the remaining one. Repeats K times.\n",
    "\n",
    "Use cases: General model evaluation for diverse training/validation splits."
   ]
  },
  {
   "cell_type": "code",
   "execution_count": 21,
   "id": "017ee357",
   "metadata": {},
   "outputs": [
    {
     "name": "stdout",
     "output_type": "stream",
     "text": [
      "Mean Cross-Validation Score:  -0.9393876925942098\n"
     ]
    }
   ],
   "source": [
    "from sklearn.model_selection import cross_val_score\n",
    "#Calculating Mean Cross-Validation Score \n",
    "scores = cross_val_score(model, X, y, cv=5)\n",
    "print(\"Mean Cross-Validation Score: \", scores.mean())\n"
   ]
  },
  {
   "cell_type": "markdown",
   "id": "fa5f955a",
   "metadata": {},
   "source": [
    "##### The Mean Cross-Validation Score was -0.94, indicating poor model performance. To improve it, consider tuning hyperparameters, using a different model, or feature engineering."
   ]
  },
  {
   "cell_type": "markdown",
   "id": "e576acd6",
   "metadata": {},
   "source": [
    "#### Stratified K-Fold Cross-Validation\n",
    " -  Ensures each fold has the same proportion of class labels, useful for imbalanced datasets.\n",
    " \n",
    "Use cases: Maintains class proportions in imbalanced datasets, like medical diagnostics."
   ]
  },
  {
   "cell_type": "markdown",
   "id": "e6092392",
   "metadata": {},
   "source": [
    "###### Evaluating machine learning models is essential for ensuring their effectiveness. By employing appropriate metrics and cross-validation techniques, we can confidently assess model performance and make informed decisions."
   ]
  },
  {
   "cell_type": "code",
   "execution_count": null,
   "id": "58351708",
   "metadata": {},
   "outputs": [],
   "source": []
  }
 ],
 "metadata": {
  "kernelspec": {
   "display_name": "Python 3 (ipykernel)",
   "language": "python",
   "name": "python3"
  },
  "language_info": {
   "codemirror_mode": {
    "name": "ipython",
    "version": 3
   },
   "file_extension": ".py",
   "mimetype": "text/x-python",
   "name": "python",
   "nbconvert_exporter": "python",
   "pygments_lexer": "ipython3",
   "version": "3.11.4"
  }
 },
 "nbformat": 4,
 "nbformat_minor": 5
}
